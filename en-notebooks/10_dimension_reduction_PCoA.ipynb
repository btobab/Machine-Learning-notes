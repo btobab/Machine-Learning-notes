{
 "cells": [
  {
   "cell_type": "markdown",
   "id": "bdcdc6eb",
   "metadata": {},
   "source": [
    "## Abstract\n",
    "In the last issue, we learned the derivation process of the formula of PCA, but it is more troublesome in practical use. The co-variance matrix needs to be obtained first, and then apply singular value decomposition to it. Therefore, the more common method is to directly perform singular value decomposition on the centralized data set.\n",
    "\n",
    "In addition, using principal component analysis, we finally get a new coordinate base. To reduce the dimension of the data set, we also need to project the coordinates. Therefore, this issue will introduce a similar but simpler method: principal coordinate analysis ($PCoA$)"
   ]
  },
  {
   "cell_type": "markdown",
   "id": "7592af7a",
   "metadata": {},
   "source": [
    "## Algorithm"
   ]
  },
  {
   "cell_type": "markdown",
   "id": "51fc62de",
   "metadata": {},
   "source": [
    "### A.SVD && PCA\n",
    "In the previous issue, we derived a simplified form of the co-variance matrix:\n",
    "$$\n",
    "S=\\frac{1}{N} X^T H X\n",
    "$$\n",
    "At the same time, we also derived that the central matrix $H^2 and H^T $are their own $H $.\n",
    "\n",
    "Therefore:\n",
    "$$\n",
    "S=\\frac{1}{N} X^T H^T H X\n",
    "$$\n",
    "Because we can perform singular value decomposition on any matrix, we have:\n",
    "$$\n",
    "HX = U \\Sigma V^T\n",
    "$$\n",
    "Therefore, it is substituted into the covariance matrix:\n",
    "$$\n",
    "S = V \\Sigma U^T U \\Sigma V^T\n",
    "$$\n",
    "As we all know:\n",
    "$$\n",
    "U^T U=I \\quad V^T V = V V^T= I \\quad \\Sigma diagonal matrix:\n",
    "$$\n",
    "Therefore:\n",
    "$$\n",
    "S=V\\Sigma ^2 V^T\n",
    "$$"
   ]
  },
  {
   "cell_type": "markdown",
   "id": "d379971c",
   "metadata": {},
   "source": [
    "Here, we find that we can get the eigen value $\\ sigma $and eigen vector $V $ of the co-variance matrix by singular value decomposition of the centralized data set.\n",
    "\n",
    "We calculate $HXV $ to get the projected coordinates."
   ]
  },
  {
   "cell_type": "markdown",
   "id": "63935a0a",
   "metadata": {},
   "source": [
    "### B.PCoA"
   ]
  },
  {
   "cell_type": "markdown",
   "id": "8820f88b",
   "metadata": {},
   "source": [
    "Let's reverse the form of $s $ and construct a matrix:\n",
    "$$\n",
    "T=HXX^TH^T\n",
    "$$\n",
    "Similar to the above process, we get:\n",
    "$$\n",
    "\\begin{aligned}\n",
    "T&=HXX^TH^T\\\\\n",
    "&=U\\Sigma V^T V\\Sigma U^T\\\\\n",
    "&=U\\Sigma^2 U^T\n",
    "\\end{aligned}\n",
    "$$\n",
    "We will slightly derive the projected coordinates:\n",
    "$$\n",
    "HXV=U\\Sigma V^TV=U\\Sigma\n",
    "$$\n",
    "Therefore, the principal coordinate analysis can directly calculate the projection coordinates"
   ]
  }
 ],
 "metadata": {
  "kernelspec": {
   "display_name": "Python 3",
   "language": "python",
   "name": "python3"
  },
  "language_info": {
   "codemirror_mode": {
    "name": "ipython",
    "version": 3
   },
   "file_extension": ".py",
   "mimetype": "text/x-python",
   "name": "python",
   "nbconvert_exporter": "python",
   "pygments_lexer": "ipython3",
   "version": "3.8.8"
  }
 },
 "nbformat": 4,
 "nbformat_minor": 5
}
