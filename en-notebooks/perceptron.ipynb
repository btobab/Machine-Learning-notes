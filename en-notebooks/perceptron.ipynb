{
 "cells": [
  {
   "cell_type": "markdown",
   "metadata": {},
   "source": [
    "## Abstract\n",
    "In this issue, we will introduce a simple linear binary classification model: **Perceptron**. Its requirements are relatively loose, as long as we can find a hyperplane to separate positive and negative samples."
   ]
  },
  {
   "cell_type": "markdown",
   "metadata": {},
   "source": [
    "### Idea\n",
    "**Error driven**\n",
    "\n",
    "Literally, we can see that the idea of the perceptron model is to randomly initialize the parameters of the model, and then update its own parameters via errors according to whether the current parameters can correctly separate the positive and negative samples."
   ]
  },
  {
   "cell_type": "markdown",
   "metadata": {},
   "source": [
    "### Algorithm\n",
    "Firstly, given the object function of the model:\n",
    "$$\n",
    "f(x)=sign(w^Tx)\n",
    "$$\n",
    "In this formula, $sign$ is a symbolic function.\n",
    "$$\n",
    "sign(a)=\n",
    "\\begin{cases}\n",
    "+1,\\,\\,a>0\\\\\n",
    "-1,\\,\\,a\\le0\\\\\n",
    "\\end{cases}\n",
    "$$\n",
    "then, according to the idea of perceptron mentioned above: error driven\n",
    "\n",
    "It's easy to obtain the loss function of the model:\n",
    "$$\n",
    "\\mathcal{L(w)=\\sum_{i=1}^n I\\{w^Tx_i * y_i<0 \\}}\n",
    "$$\n",
    "In this formula, $\\mathcal{I}$ is a indicator function, indicating which elements belong to the collection.\n",
    "\n",
    "And it's easy to understand the judgment conditions. We note that:\n",
    "* when $y_i>0$, it indicates $y_i$ is a positive sample:\n",
    "\t* then, if $w^Tx_i<0$, it indicates the sample is classified incorrectly ($w^Tx_i* y_i<0$)\n",
    "    * if $w^Tx_i>0$, it indicates the sample is classified correctly ($w^Tx_i* y_i>0$)\n",
    "* when $y_i<0$, it indicates $y_i$ is a negative sample:\n",
    "\t* then, if $w^Tx_i<0$, it indicates the sample is classified correctly ($w^Tx_i* y_i>0$)\n",
    "    * if $w^Tx_i>0$, it indicates the sample is classified incorrectly ($w^Tx_i* y_i<0$)\n",
    "    \n",
    "We finally find out when $w^Tx_i * y_i<0$, it indicates the sample is classified incorrectly by model."
   ]
  },
  {
   "cell_type": "markdown",
   "metadata": {},
   "source": [
    "Well, let's look back on the loss function. We are suprised to find that it's non differentiable, thus we can't use gradient descent. Um, how can we solve the issue?\n",
    "\n",
    "We could loose the conditions, and the loss function is updated to:\n",
    "$$\n",
    "\\mathcal{L(w)}=\\mathcal{\\sum_{(x_i,y_i)\\in M}} -\\mathcal{w^Tx_i* y_i}\n",
    "$$\n",
    "$\\mathcal{M}$ represents the collection classified incorrectly.\n",
    "\n",
    "then adding a minus sign in front of $w^Tx_i* y_i$, we will obtain a positive loss value. And then we can use graident descent to update the parameters $w$.\n",
    "\n",
    "As for the derivative of the loss function, it's also easy to solve:\n",
    "\n",
    "$$\n",
    "\\mathcal{\\frac{dL(w)}{dw}}=\\mathcal{\\sum_{(x_i,y_i)\\in M}} -\\mathcal{x_i* y_i}\n",
    "$$"
   ]
  },
  {
   "cell_type": "markdown",
   "metadata": {},
   "source": [
    "### Implement"
   ]
  },
  {
   "cell_type": "code",
   "execution_count": 1,
   "metadata": {},
   "outputs": [
    {
     "data": {
      "image/png": "[encoded data removed]",
      "text/plain": [
       "<Figure size 432x288 with 1 Axes>"
      ]
     },
     "metadata": {
      "needs_background": "light"
     },
     "output_type": "display_data"
    }
   ],
   "source": [
    "%matplotlib inline\n",
    "import os\n",
    "os.chdir(\"../\")\n",
    "import numpy as np\n",
    "from models.linear_models import Perceptron\n",
    "\n",
    "model = Perceptron(10000, lr=1e-2)\n",
    "x = np.linspace(0, 100, num=100)\n",
    "w1, b1 = 0.1, 5\n",
    "w2, b2 = 0.2, 10\n",
    "epsilon = 2\n",
    "k = 0.15\n",
    "b = 8\n",
    "w = np.asarray([-k, 1])\n",
    "v1 = x * w1 + b1 + np.random.normal(scale=epsilon, size=x.shape)\n",
    "v2 = x * w2 + b2 + np.random.normal(scale=epsilon, size=x.shape)\n",
    "x1 = np.c_[x, v1]\n",
    "x2 = np.c_[x, v2]\n",
    "x = np.r_[x1, x2]\n",
    "y = np.sign(x.dot(w) - b)\n",
    "model.fit(x, y)\n",
    "model.draw(x)"
   ]
  }
 ],
 "metadata": {
  "kernelspec": {
   "display_name": "Python 3",
   "language": "python",
   "name": "python3"
  },
  "language_info": {
   "codemirror_mode": {
    "name": "ipython",
    "version": 3
   },
   "file_extension": ".py",
   "mimetype": "text/x-python",
   "name": "python",
   "nbconvert_exporter": "python",
   "pygments_lexer": "ipython3",
   "version": "3.8.8"
  },
  "latex_envs": {
   "LaTeX_envs_menu_present": true,
   "autoclose": false,
   "autocomplete": true,
   "bibliofile": "biblio.bib",
   "cite_by": "apalike",
   "current_citInitial": 1,
   "eqLabelWithNumbers": true,
   "eqNumInitial": 1,
   "hotkeys": {
    "equation": "Ctrl-E",
    "itemize": "Ctrl-I"
   },
   "labels_anchors": false,
   "latex_user_defs": false,
   "report_style_numbering": false,
   "user_envs_cfg": false
  }
 },
 "nbformat": 4,
 "nbformat_minor": 1
}
