{
 "cells": [
  {
   "cell_type": "markdown",
   "metadata": {},
   "source": [
    "## Abstract\n",
    "Hello, everyone. I'm btobab.\n",
    "\n",
    "When I learned NLP, I found ~~I'm not very good at~~ I completely can't understand formula derivation, so I decided to learn the theoretical derivation of machine learning from the beginning.\n",
    "\n",
    "This issue is mainly divided into two parts:\n",
    "* The first part will derive the closed-form solution of the linear regression(least squares method) from three perspectives of matrix, geometry, probability, and provide reference code.\n",
    "* The second part will derive the closed-formula solution of least squares method with regularization from two perspectives of matrix and probability, and construct a complete linear regressioin class, and implement the closed-solution method and gradient descent method with code at the same time."
   ]
  },
  {
   "cell_type": "markdown",
   "metadata": {},
   "source": [
    "## Introduction\n",
    "Linear regression model is a model that use linear function to fit the relationship between one or more independent variables and the dependent variable ($y$).\n",
    "\n",
    "The target variable ($y$) is a continuous numerical type, such as: housing price, number of people and rainfall. The regression model is to find a mapping function between input variables and output variables.\n",
    "\n",
    "The learning of regression task equals to function fitting: use a function curve to make it fit the known data well and predict unknown data.\n",
    "\n",
    "Regression task is divided into two processes: model learning and prediction. Construct a model based on given training dataset and predict corresponding output based on new input data."
   ]
  },
  {
   "cell_type": "markdown",
   "metadata": {},
   "source": [
    "## 1.Algorithm\n",
    "**without regularization**"
   ]
  },
  {
   "cell_type": "markdown",
   "metadata": {},
   "source": [
    "### A.Matrix perspective\n",
    "**Note:in general, the vectors we are discussing are column vectors. Therefore, in order to ensure the shape of the matrix during the derivation process, a large number of transposition characters are used**\n",
    "\n",
    "given dataset $\\mathcal{D}=\\{(x_1,y_1),(x_2,y_2)...(x_n,y_n)\\}$\n",
    "\n",
    "in which $x_i\\in \\mathcal{R^p}，y_i\\in \\mathcal{R}，i=1,2,...,n$\n",
    "\n",
    "$$\n",
    "X=(x_1,x_2,...,x_n)^T=\\begin{pmatrix}\n",
    "x_{11}&x_{12}&...&X_{1p}\\\\\n",
    "x_{21}&x_{22}&...&x_{2p}\\\\\n",
    ".&.&.&.&\\\\\n",
    ".&.&.&.&\\\\\n",
    ".&.&.&.&\\\\\n",
    "x_{n1}&x_{n2}&...&x_{np}\\\\\n",
    "\\end{pmatrix}_{n*p}\n",
    "$$\n",
    "$$\n",
    "Y=(y1,y2,...,y_n)_{n*1}^T\n",
    "$$\n",
    "It is the model we constrct: $f(w)=w^T*x+w_0*x_0。$\n",
    "\n",
    "Generally set $x_0=1$,and $b=w_0*x_0$，$b$ is bias，$w$ is weight. below, for the convenience of derivation, we merge $w_0$ into $w$ and $x_0$ into $x$.\n",
    "\n",
    "so the model is updated to $f(w)=w^T*x$"
   ]
  },
  {
   "cell_type": "markdown",
   "metadata": {},
   "source": [
    "The loss function of least squares method is:\n",
    "$$\n",
    "L(w)=\\sum_{i=1}^{i=n}\\|y_i-w^T* x_i\\|_2^2\n",
    "$$\n",
    "$$\n",
    "=\\begin{pmatrix}\n",
    "y_1-w^T*x_1&y_2-w^T*x_2&...&y_n-w^T*x_n\n",
    "\\end{pmatrix}\n",
    "\\begin{pmatrix}\n",
    "y_1-w^T*x_1\\\\\n",
    "y_2-w^T*x_2\\\\\n",
    ".\\\\\n",
    ".\\\\\n",
    ".\\\\\n",
    "y_n-w^T*x_n\\\\\n",
    "\\end{pmatrix}\n",
    "$$\n",
    "$$\n",
    "=(Y^T-w^T*X^T)(Y^T-w^T*X^T)^T\n",
    "$$\n",
    "$$\n",
    "=(Y^T-w^T*X^T)(Y-X*w)\n",
    "$$\n",
    "$$\n",
    "=Y^T*Y-w^T*X^T*Y-Y^T*X*w+w^T*X^T*X*w\n",
    "$$\n",
    "Note the second and third terms are transposed to each other, and observe its matrix shape: $(1,p)*(p,n)*(n,1)=(1,1)$\n",
    "\n",
    "Knowning that these two terms are scalars, and the transposition of a scalar is itself, so the two can be conbined, get:\n",
    "$$\n",
    "L(w)=Y^T*Y-2*w^T*X^T*Y+w^T*X^T*X*w\n",
    "$$\n",
    "so$\\widehat{w}=argmin(L(w))$"
   ]
  },
  {
   "cell_type": "markdown",
   "metadata": {},
   "source": [
    "below, to find out the minimum of $L(w)$, we need to diffentiate $L(W)$\n",
    "\n",
    "Note there are three terms in the formual. The first term has nothing to do with $w$ and can be removed. Then the remaining two terms involve matrix derivation.\n",
    "\n",
    "Regarding to matrix derivation, author recommends three articles by a blogger(more detailed and rigorous than textbook, each formual has proof)\n",
    "> [essence](https://zhuanlan.zhihu.com/p/263777564)\n",
    "\n",
    "> [basics](https://zhuanlan.zhihu.com/p/273729929)\n",
    "\n",
    "> [advanced](https://zhuanlan.zhihu.com/p/288541909)"
   ]
  },
  {
   "cell_type": "markdown",
   "metadata": {},
   "source": [
    "The following is the derivative solution process of the above two terms.\n",
    "\n",
    "Because $X,Y$ are constant matrices, the derivative can be obtained directly. However, since it is the derivative of $w$, the result must be transposed.\n",
    "$$\n",
    "\\frac{d(2*w^T*X^T*Y)}{dw}=2*X^T*Y\n",
    "$$\n",
    "Below, let's solve the third term.\n",
    "$$\n",
    "d(w^T*X^T*X*w)=tr(d(w^T*X^T*X*w))=tr(X^T*X*d(w^T*w))\n",
    "$$\n",
    "$$\n",
    "=tr(X^T*X*(d(w^T)*w+w^T*d(w)))=tr(X^T*X*w*(dw)^T)+tr(X^T*X*w^T*dw)\n",
    "$$\n",
    "$$\n",
    "=tr(w^T*X^T*X*dw)+tr(X^T*X*w^T*dw)=tr(2*X^T*X*w^T*dw)\n",
    "$$\n",
    "so\n",
    "$$\n",
    "\\frac{d(w^T*X^T*X*w)}{dw}=2*w*X^T*X\n",
    "$$"
   ]
  },
  {
   "cell_type": "markdown",
   "metadata": {},
   "source": [
    "so $\\frac{dL(w)}{dw}=2*X^T*X*w-2*X^T*Y$\n",
    "\n",
    "set the derivative equal to 0 to get the closed-form solution of the least squares method:\n",
    "$$\n",
    "\\widehat{w}=(X^T*X)^{-1}*X^T*Y\n",
    "$$"
   ]
  },
  {
   "cell_type": "markdown",
   "metadata": {},
   "source": [
    "### B.Geometry perspective\n",
    "$$\n",
    "X=(x_1,x_2,...,x_n)^T=\\begin{pmatrix}\n",
    "x_{11}&x_{12}&...&X_{1p}\\\\\n",
    "x_{21}&x_{22}&...&x_{2p}\\\\\n",
    ".&.&.&.&\\\\\n",
    ".&.&.&.&\\\\\n",
    ".&.&.&.&\\\\\n",
    "x_{n1}&x_{n2}&...&x_{np}\\\\\n",
    "\\end{pmatrix}_{n*p}\n",
    "$$\n",
    "$$\n",
    "Y=(y1,y2,...,y_n)_{n*1}^T\n",
    "$$"
   ]
  },
  {
   "cell_type": "markdown",
   "metadata": {},
   "source": [
    "From a geometric perspective, we regard $X$ as a $p$ dimensional vector.\n",
    "\n",
    "The first dimension of $X$ is $(x_{11},x_{21},...,x_{n1})$，the p-th dimension of $X$ is $(x_{1p},x_{2p},...,x_{np})$\n",
    "\n",
    "and here $Y$ is regarded as a one-dimensional vector."
   ]
  },
  {
   "cell_type": "markdown",
   "metadata": {},
   "source": [
    "Now we assume $p=2$ because it is easier to draw. The diagram is as follows(I really drew it for a long time and pitifully asked for a star^ _ ^)\n",
    "![](https://ai-studio-static-online.cdn.bcebos.com/ebe104f810e04c8991d17f69a1848f52937b0180d428477f9e8cbddbc57cf39a)\n"
   ]
  },
  {
   "cell_type": "markdown",
   "metadata": {},
   "source": [
    "Change the model to $f(w)=Xw$, which means zoom $X$ with weight $w$\n",
    "\n",
    "The geometric meaning of the least squares method is to find a $w$, so that the distance between vector $Y-Xw$ and space $w$ is the smallest. Of course the case of the smallest distance is perpendicular to space $X$.\n",
    "\n",
    "so we get a formula: $X^T*(Y-Xw)=0$\n",
    "\n",
    "then get the solution of $w$：\n",
    "$$\n",
    "X^T*X*w=X^T*Y\n",
    "$$\n",
    "$$\n",
    "\\widehat{w}=(X^T*X)^{-1}*X^T*Y\n",
    "$$\n",
    "we can see that the solved $w$ is the same as the result of matrix perspective."
   ]
  },
  {
   "cell_type": "markdown",
   "metadata": {},
   "source": [
    "### C.Probability perspective\n",
    "As we known, in reality, it is hard to fit a distribution with a straight line. True data must have some randomness, that is, noise.\n",
    "\n",
    "so we assume noise $\\epsilon\\backsim N(0,\\sigma^2)$\n",
    "\n",
    "so $y=f(w)+\\epsilon=w^T*x+\\epsilon$\n",
    "\n",
    "so $y|x;w\\backsim N(w^T*x,\\sigma^2)$\n",
    "\n",
    "Bring it into the probability density function of gaussian distribution:\n",
    "$$\n",
    "p(y|x;w)=\\frac{1}{\\sqrt{2\\pi}*\\sigma}*e^{-\\frac{(y-w^T*x)^2}{2\\sigma^2}}\n",
    "$$"
   ]
  },
  {
   "cell_type": "markdown",
   "metadata": {},
   "source": [
    "Then use $MLE$ (maximum likelihood estimate)\n",
    "\n",
    "**Note: so-called MLE is to get the relative frequency via a large number of samples to approximate probability**\n",
    "\n",
    "Let's assume a function: $\\zeta(w)=\\log{p(Y|X;w)}$\n",
    "\n",
    "Since $n$ data are independent, we can change the probability to a form of continuous mutiplication:\n",
    "\n",
    "$\\zeta(w)=\\log{\\Pi_{i=1}^np(y_i|x_i;w)}=\\Sigma_{i=1}^n \\log{p(y_i|x_i;w)}$\n",
    "\n",
    "bring the probability density function of gaussian distribution into the formula:\n",
    "\n",
    "$\\zeta(w)=\\Sigma_{i=1}^n(\\log{\\frac{1}{\\sqrt{2\\pi}*\\sigma}}-\\frac{(y-w^T*x)^2}{2\\sigma^2})$\n",
    "\n",
    "since the former term has nothing to do with $w$, it can be ignored.\n",
    "\n",
    "so:\n",
    "$$\n",
    "\\widehat{w}=argmax{\\zeta(w)}\n",
    "$$\n",
    "$$\n",
    "=argmax{ \\Sigma_{i=1}^n -\\frac{(y-w^T*x)^2}{2\\sigma^2}}\n",
    "$$\n",
    "$$\n",
    "=argmin{ \\Sigma_{i=1}^n (y-w^T*x)^2}\n",
    "$$\n",
    "The conclusion obtained by using maximum likelihood estimation is the definition of least squares method.\n",
    "\n",
    "This also shows that least squares method hides a assumption that noise is gaussian distribution."
   ]
  },
  {
   "cell_type": "markdown",
   "metadata": {},
   "source": [
    "### Implement"
   ]
  },
  {
   "cell_type": "code",
   "execution_count": 13,
   "metadata": {},
   "outputs": [
    {
     "name": "stdout",
     "output_type": "stream",
     "text": [
      "[[5.20132625]]\n"
     ]
    },
    {
     "data": {
      "image/png": "[encoded data removed]",
      "text/plain": [
       "<Figure size 432x288 with 1 Axes>"
      ]
     },
     "metadata": {
      "needs_background": "light"
     },
     "output_type": "display_data"
    }
   ],
   "source": [
    "%matplotlib inline\n",
    "import numpy as np\n",
    "import matplotlib.pyplot as plt\n",
    "\n",
    "# num of samples\n",
    "n = 1000\n",
    "# noise\n",
    "epsilon = 1\n",
    "X = np.expand_dims(np.linspace(0,100,1000), axis=-1)\n",
    "w = np.asarray([5.2])\n",
    "Y = X * w\n",
    "# apply noise to X\n",
    "X += np.random.normal(scale=epsilon, size=(X.shape))\n",
    "X_T = X.transpose()\n",
    "w_hat = np.matmul(np.linalg.pinv((np.matmul(X_T, X))), np.matmul(X_T, Y))\n",
    "print(w_hat)\n",
    "plt.scatter(X, Y, s=3, c=\"y\")\n",
    "Y_hat = X * w_hat\n",
    "plt.plot(X, Y_hat)\n",
    "plt.show()"
   ]
  },
  {
   "cell_type": "markdown",
   "metadata": {},
   "source": [
    "## 2.Algorithm\n",
    "**with regularization**"
   ]
  },
  {
   "cell_type": "markdown",
   "metadata": {},
   "source": [
    "### A.Matrix perspective"
   ]
  },
  {
   "cell_type": "markdown",
   "metadata": {},
   "source": [
    "Firstly, given a new loss functioin with regularization:\n",
    "$$\n",
    "\\zeta(w)=\\Sigma_{i=1}^{n}||y_i-w^T * x_i||^2 + \\lambda * ||w||^2\n",
    "$$\n",
    "then the derivation of loss function from matrix perspective without regularization is referenced:\n",
    "$$\n",
    "\\zeta(w)=Y^T*Y-2*w^T*X^T*Y+w^T*X^T*X* w+\\lambda * ||w||^2\n",
    "$$\n",
    "so$\\widehat{w}=argmax(\\zeta(w))$\n",
    "\n",
    "differentiate $\\zeta(w)$:\n",
    "$$\n",
    "\\frac{\\partial \\zeta(w)}{\\partial w}=2*X^T*X*w-2*X^T* Y+2\\lambda * w \n",
    "$$\n",
    "set the derivative equal to 0 to get the closed-form solution of least squares method with regularization:\n",
    "$$\n",
    "\\widehat{w}=(X^T*X+\\lambda * I)^{-1} *X^T*Y\n",
    "$$\n",
    "$I$ is identity matrix"
   ]
  },
  {
   "cell_type": "markdown",
   "metadata": {},
   "source": [
    "### B.Probability perspective"
   ]
  },
  {
   "cell_type": "markdown",
   "metadata": {},
   "source": [
    "assume noise $\\epsilon \\backsim N(0,\\sigma_1^2)$\n",
    "\n",
    "$w \\backsim N(0,\\sigma_2^2)$\n",
    "\n",
    "since $y=w^T* x + \\epsilon$\n",
    "\n",
    "get $y|w \\backsim N(w^T* x,\\sigma_1^2)$"
   ]
  },
  {
   "cell_type": "markdown",
   "metadata": {},
   "source": [
    "Next we use MAP(Maximum a posteriori estimate):\n",
    "\n",
    "according to Bayes theorem:\n",
    "$$\n",
    "P(w|Y)=\\frac{P(Y|w)* P(w)}{P(Y)}\n",
    "$$\n",
    "$P(w)$ is a priori probability, $P(Y|w)$ is a likelihood probability, $P(Y)$ is normalized probability, priori probability is mutiplied by the likelihood probability and normalized to obtain the posteriori probability $P(w|Y)$."
   ]
  },
  {
   "cell_type": "markdown",
   "metadata": {},
   "source": [
    "actually $P(Y)$ is constant, so:\n",
    "$$\n",
    "\\widehat{w}=argmax(P(w|Y))=argmax(P(Y|w)* P(w))=argmax(log(P(Y|w)* P(w)))\n",
    "$$\n",
    "since samples are independent, we can change the probability to a form of continuous mutipication.\n",
    "$$\n",
    "=argmax(log(\\prod_{i=1}^n P(y_i|w)* P(w)))=argmax(\\sum_{i=1}^n log(P(y_i|w)+ log(P(w))))\n",
    "$$\n",
    "bring it into probability density function of gaussian distribution to get:\n",
    "$$\n",
    "\\widehat{w}=argmax(\\sum_{i=1}^nlog(\\frac{1}{\\sqrt{2\\pi}* \\sigma_1})-\\frac{(y_i-w^T* x_i)^2}{2\\sigma_1^2}+log(\\frac{1}{\\sqrt{2 \\pi}* \\sigma_2})-\\frac{w^2}{2\\sigma_2^2})\n",
    "$$"
   ]
  },
  {
   "cell_type": "markdown",
   "metadata": {},
   "source": [
    "since both $\\sigma_1$ and $\\sigma_2$ are hyperparameters, they can be omitted.\n",
    "\n",
    "so:\n",
    "$$\n",
    "\\widehat{w}=argmin(\\sum_{i=1}^n \\frac{(y_i-w^T* x_i)^2}{2\\sigma_1^2}+\\frac{w^2}{2\\sigma_2^2})\n",
    "$$\n",
    "$$\n",
    "=argmin(\\sum_{i=1}^n (y_i-w^T* x_i)^2+\\frac{\\sigma_1^2}{\\sigma_2^2}* w^2)\n",
    "$$\n",
    "we can see that the result derived via $MAP$ is the definition of the least squares method with regularization."
   ]
  },
  {
   "cell_type": "markdown",
   "metadata": {},
   "source": [
    "### Implement\n",
    "**with regularization**"
   ]
  },
  {
   "cell_type": "code",
   "execution_count": 2,
   "metadata": {},
   "outputs": [],
   "source": [
    "import os\n",
    "os.chdir(\"../\")\n",
    "from models.linear_models import LinearRegression\n",
    "import numpy as np\n",
    "import matplotlib.pyplot as plt"
   ]
  },
  {
   "cell_type": "code",
   "execution_count": 3,
   "metadata": {},
   "outputs": [
    {
     "name": "stdout",
     "output_type": "stream",
     "text": [
      "([[5.267414573703277]], [0.8075190886132994])\n"
     ]
    },
    {
     "data": {
      "image/png": "[encoded data removed]",
      "text/plain": [
       "<Figure size 432x288 with 1 Axes>"
      ]
     },
     "metadata": {
      "needs_background": "light"
     },
     "output_type": "display_data"
    }
   ],
   "source": [
    "X_ = np.expand_dims(np.linspace(0, 10, 1000), axis=-1)\n",
    "X = np.c_[X_, np.ones(1000)]\n",
    "w = np.asarray([5.2, 1])\n",
    "Y = X.dot(w)\n",
    "X = np.r_[X, np.asarray([[11, 1], [12, 1], [13, 1]])]\n",
    "Y = np.r_[Y, np.asarray([100, 110, 120])]\n",
    "\n",
    "model = LinearRegression(l2_ratio=1e1, epoch_num=1000, lr=1e-2, batch_size=100, if_standard=False)\n",
    "model.fit(X[:, :-1], Y)\n",
    "print(model.get_params())\n",
    "model.draw(X[:, :-1], Y)"
   ]
  },
  {
   "cell_type": "markdown",
   "metadata": {},
   "source": [
    "## Conclusion\n",
    "In this issue, we learned：\n",
    "1. what's linear regression\n",
    "2. the formula derivation of linear regression without regularization from matrix, geometry, probability perspective\n",
    "3. implement the least squares method without regularizatioin with code\n",
    "4. the formula derivation of linear regression with regularizatioin from matrix and probability perspective\n",
    "5. implement complete linear regression class with code"
   ]
  },
  {
   "cell_type": "markdown",
   "metadata": {},
   "source": [
    "## Reference\n",
    "> [video](https://www.bilibili.com/video/BV1aE411o7qd?p=10)\n",
    "\n",
    "> [essence](https://zhuanlan.zhihu.com/p/263777564)\n",
    "\n",
    "> [basic](https://zhuanlan.zhihu.com/p/273729929)\n",
    "\n",
    "> [advanced](https://zhuanlan.zhihu.com/p/288541909)"
   ]
  }
 ],
 "metadata": {
  "kernelspec": {
   "display_name": "Python 3",
   "language": "python",
   "name": "python3"
  },
  "language_info": {
   "codemirror_mode": {
    "name": "ipython",
    "version": 3
   },
   "file_extension": ".py",
   "mimetype": "text/x-python",
   "name": "python",
   "nbconvert_exporter": "python",
   "pygments_lexer": "ipython3",
   "version": "3.8.8"
  }
 },
 "nbformat": 4,
 "nbformat_minor": 1
}
