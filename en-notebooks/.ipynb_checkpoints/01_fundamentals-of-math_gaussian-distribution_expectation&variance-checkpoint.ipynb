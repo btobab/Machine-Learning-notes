{
 "cells": [
  {
   "cell_type": "markdown",
   "id": "98332b51",
   "metadata": {},
   "source": [
    "## Abstract\n",
    "In this issue, we mainly study some properties of Gaussian distribution"
   ]
  },
  {
   "cell_type": "markdown",
   "id": "8599d700",
   "metadata": {},
   "source": [
    "## Assumption\n",
    "Now given a bunch of data:\n",
    "$$\n",
    "X=(x_1, x_2, ..., x_N)^T\n",
    "$$\n",
    "$$\n",
    "x_i \\in R^p\n",
    "$$\n",
    "First, we assume our model: the Gauss linear model.\n",
    "\n",
    "to simplify the derivation of formula, we set $p$ equals $1$, so\n",
    "$$\n",
    "x \\backsim N(\\mu, \\sigma^2)\n",
    "$$\n",
    "$$\n",
    "\\theta=(\\mu, \\sigma)\n",
    "$$ \n",
    "\n",
    "Next, we use maximum likelihood estimation ($MLE $) to get the expectation and variance based on this bunch of data\n",
    "\n",
    "The likelihood function is given below:\n",
    "$$\n",
    "\\begin{aligned}\n",
    "p(X|\\theta)&=log(\\prod_{i=1}^N \\frac{1}{\\sqrt{2\\pi}\\sigma} \\exp(-\\frac{(x_i-\\mu)^2}{2\\sigma^2})) \\\\\n",
    "&=\\sum_{i=1}^N log(\\frac{1}{\\sqrt{2\\pi}\\sigma} \\exp(-\\frac{(x_i-\\mu)^2}{2\\sigma^2}))\\\\\n",
    "&=\\sum_{i=1}^N log(\\frac{1}{\\sqrt{2\\pi}}) - log(\\sigma) - \\frac{(x_i-\\mu)^2}{2\\sigma^2}\n",
    "\\end{aligned}\n",
    "$$"
   ]
  },
  {
   "cell_type": "markdown",
   "id": "d6fc3711",
   "metadata": {},
   "source": [
    "## Expectation"
   ]
  },
  {
   "cell_type": "markdown",
   "id": "d07ed74c",
   "metadata": {},
   "source": [
    "Next, we first use the maximum likelihood estimation to obtain the estimated value of the expected $\\mu $\n",
    "\n",
    "$$\n",
    "\\begin{aligned}\n",
    "\\mu_{MLE}\n",
    "&=argmax(p(X|\\theta))\\\\\n",
    "&=argmin(\\sum_{i=1}^N (x_i-\\mu)^2)\n",
    "\\end{aligned}\n",
    "$$\n",
    "\n",
    "By deriving the formula:\n",
    "$$\n",
    "\\sum_{i=1}^N 2(x_i-\\mu)=0\n",
    "$$\n",
    "$$\n",
    "\\sum_{i=1}^N x_i - N \\mu=0\n",
    "$$\n",
    "$$\n",
    "\\mu_{MLE}=\\frac{1}{N} \\sum_{i=1}^N x_i\n",
    "$$"
   ]
  },
  {
   "cell_type": "markdown",
   "id": "55bd9223",
   "metadata": {},
   "source": [
    "## Variance\n",
    "Similarly, we use maximum likelihood estimation to estimate the variance $\\sigma $\n",
    "\n",
    "$$\n",
    "\\begin{aligned}\n",
    "\\sigma_{MLE}\n",
    "&=argmax(p(X|\\theta))\\\\\n",
    "&=argmin(\\sum_{i=1}^N log(\\sigma)+\\frac{(x_i-\\mu)^2}{2\\sigma^2})\n",
    "\\end{aligned}\n",
    "$$\n",
    "\n",
    "Similarly, we derive the formula:\n",
    "$$\n",
    "\\sum_{i=1}^N[\\frac{1}{\\sigma}-\\frac{(x_i-\\mu)^2}{\\sigma^3}]=0\n",
    "$$\n",
    "Finally, we get the estimated value:\n",
    "$$\n",
    "\\sigma_{MLE}^2 = \\Sigma_{MLE} = \\frac{1}{N} \\sum_{i=1}^N (x_i-\\mu)^2\n",
    "$$"
   ]
  },
  {
   "cell_type": "markdown",
   "id": "4a09c8c6",
   "metadata": {},
   "source": [
    "## Biased Estimation\n",
    "To verify whether an estimate is biased or unbiased, we only need to calculate the expectation of the estimate."
   ]
  },
  {
   "cell_type": "markdown",
   "id": "03bf0d72",
   "metadata": {},
   "source": [
    "### $\\mu$\n",
    "$$\n",
    "\\begin{aligned}\n",
    "E[\\mu_{MLE}]\n",
    "&=E[\\frac{1}{N}\\sum_{i=1}^N x_i]\\\\\n",
    "&=\\frac{1}{N}\\sum_{i=1}^N E[x_i]\\\\\n",
    "&=\\mu\n",
    "\\end{aligned}\n",
    "$$\n",
    "So $\\mu_{MLE}$ is an unbiased estimate"
   ]
  },
  {
   "cell_type": "markdown",
   "id": "6b809ad8",
   "metadata": {},
   "source": [
    "### $\\sigma$"
   ]
  },
  {
   "cell_type": "markdown",
   "id": "1f225763",
   "metadata": {},
   "source": [
    "First we deform the estimate of $\\sigma$\n",
    "$$\n",
    "\\begin{aligned}\n",
    "\\sigma_{MLE}^2\n",
    "&=\\frac{1}{N} \\sum_{i=1} ^N (x_i - \\mu_{MLE})^2\\\\\n",
    "&=\\frac{1}{N} \\sum_{i=1} ^N (x_i^2 - 2x_i\\mu_{MLE} + \\mu_{MLE}^2)\\\\\n",
    "&=\\frac{1}{N} \\sum_{i=1}^N x_i^2 - 2(\\frac{1}{N} \\sum_{i=1} ^N x_i) \\mu_{MLE} + \\mu_{MLE}^2\\\\\n",
    "&=\\frac{1}{N} \\sum_{i=1}^N x_i^2 - 2\\mu_{MLE}^2 + \\mu_{MLE}^2\\\\\n",
    "&=\\frac{1}{N} \\sum_{i=1}^N x_i^2 - \\mu_{MLE}^2\\\\\n",
    "&=(\\frac{1}{N} \\sum_{i=1}^N x_i^2-\\mu^2) - (\\mu_{MLE}^2-\\mu^2)\\\\\n",
    "\\end{aligned}\n",
    "$$\n",
    "set $f_1=(\\frac{1}{N} \\sum_{i=1}^N x_i^2-\\mu^2)$ , $f_2=(\\mu_{MLE}^2-\\mu^2)$\n",
    "\n",
    "so:\n",
    "$$\n",
    "\\begin{aligned}\n",
    "E[f_1]\n",
    "&=E[\\frac{1}{N} \\sum_{i=1}^N x_i^2 - \\mu^2]\\\\\n",
    "&=E[\\frac{1}{N} \\sum_{i=1}^N (x_i^2 - \\mu^2)]\\\\\n",
    "&=\\frac{1}{N} \\sum_{i=1}^N E[x_i^2] - E[\\mu^2]\\\\\n",
    "&=\\frac{1}{N} \\sum_{i=1}^N E[x_i^2] - \\mu^2\\\\\n",
    "&=\\frac{1}{N} \\sum_{i=1}^N E[x_i^2] - (E[x_i])^2\\\\\n",
    "&=\\sigma^2\n",
    "\\end{aligned}\n",
    "$$\n",
    "similarly:\n",
    "$$\n",
    "\\begin{aligned}\n",
    "E[f_2]\n",
    "&=E[\\mu_{MLE}^2 - \\mu^2]\\\\\n",
    "&=E[\\mu_{MLE}^2 - (E[\\mu_{MLE}])^2]\\\\\n",
    "&=Var[\\mu_{MLE}]\\\\\n",
    "&=Var[\\frac{1}{N} \\sum_{i=1} ^N x_i]\\\\\n",
    "&=\\frac{1}{N^2} \\sum_{i=1} ^N Var[x_i]\\\\\n",
    "&=\\frac{1}{N} \\sigma^2\n",
    "\\end{aligned}\n",
    "$$\n",
    "finally, adding $f_1$ and $f_2$ , we get:\n",
    "$$\n",
    "E[\\sigma_{MLE}^2]=\\frac{N-1}{N} \\sigma^2\n",
    "$$\n",
    "So our estimate of $\\sigma$ from the maximum likelihood estimate is slightly smaller than the true value, so it is biased.\n",
    "\n",
    "The unbiased estimate of $\\sigma^2$ is $\\frac{1}{N-1}\\sum_{i=1}^N (x_i-\\mu_{MLE})^2$"
   ]
  }
 ],
 "metadata": {
  "kernelspec": {
   "display_name": "Python 3",
   "language": "python",
   "name": "python3"
  },
  "language_info": {
   "codemirror_mode": {
    "name": "ipython",
    "version": 3
   },
   "file_extension": ".py",
   "mimetype": "text/x-python",
   "name": "python",
   "nbconvert_exporter": "python",
   "pygments_lexer": "ipython3",
   "version": "3.8.8"
  }
 },
 "nbformat": 4,
 "nbformat_minor": 5
}
