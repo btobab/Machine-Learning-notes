{
 "cells": [
  {
   "cell_type": "markdown",
   "id": "1ba21f16",
   "metadata": {},
   "source": [
    "## Abstract\n",
    "In this issue, we will learn an algorithm of linear regression - soft output - probability generation model: $GDA$ (Gaussian Discriminant Analysis)."
   ]
  },
  {
   "cell_type": "markdown",
   "id": "47c73a18",
   "metadata": {},
   "source": [
    "## Idea\n",
    "In the last issue, the logistic regression algorithm we learned belongs to probability discriminant model, so the difference between the discriminant model and the generation model is:\n",
    "* the discriminant model is used to model the probability $p(y|x)$ directly to obtain its truly probability value.\n",
    "* the generation model is used to model the joint distribution $(x,y)$ via converting $p(y|x)$ to $p(x|y)p(y)$ according to bayes theorem: $p(y|x)=\\frac{p(x|y)p(y)}{p(x)}$. Since $p(x)$ has nothing to do with $y$, it can be omitted. So, finally we get:\n",
    "$$\n",
    "p(y|x)\\propto p(x|y)p(y)=p(x;y)\n",
    "$$\n",
    "when we are to predict any samples, we just need to compare $p(y=0|x)$ and $p(y=1|x)$."
   ]
  },
  {
   "cell_type": "markdown",
   "id": "324264ba",
   "metadata": {},
   "source": [
    "## Algorithm"
   ]
  },
  {
   "cell_type": "markdown",
   "id": "835c0cf6",
   "metadata": {},
   "source": [
    "Firstly, let's make some assumption about the model:\n",
    "<img src=\"https://latex.codecogs.com/gif.image?\\dpi{110}&space;y\\in&space;\\{0,1\\}\\quad&space;y\\sim&space;Bernuolli(\\phi)\\quad&space;p(y)=\\phi^y(1-\\phi)^{1-y}\\\\\\left&space;\\{\\begin{aligned}x|y=1&space;\\quad&space;\\sim&space;\\quad&space;N(\\mu_1,\\Sigma)\\\\x|y=0&space;\\quad&space;\\sim&space;\\quad&space;N(\\mu_2,\\Sigma)\\end{aligned}\\right.\\Longrightarrow&space;p(x|y)=N(\\mu_1,\\Sigma)^yN(\\mu_2,\\Sigma)^{1-y}\" title=\"y\\in \\{0,1\\}\\quad y\\sim Bernuolli(\\phi)\\quad p(y)=\\phi^y(1-\\phi)^{1-y}\\\\\\left \\{\\begin{aligned}x|y=1 \\quad \\sim \\quad N(\\mu_1,\\Sigma)\\\\x|y=0 \\quad \\sim \\quad N(\\mu_2,\\Sigma)\\end{aligned}\\right.\\Longrightarrow p(x|y)=N(\\mu_1,\\Sigma)^yN(\\mu_2,\\Sigma)^{1-y}\" />\n",
    "\n",
    "so all the parameters $\\theta$ of the model are:\n",
    "$$\n",
    "\\theta=(\\phi, \\mu_1, \\mu_2, \\Sigma)\n",
    "$$"
   ]
  },
  {
   "cell_type": "markdown",
   "id": "143fa45d",
   "metadata": {},
   "source": [
    "Then given the loss function of the model:\n",
    "$$\n",
    "\\begin{aligned}\n",
    "J(\\theta)=log(p(Y|X))&=log(\\prod_{i=1}^n p(y_i|x_i))\\\\\n",
    "&=\\sum_{i=1}^n log(p(y_i|x_i))\\\\\n",
    "\\end{aligned}\n",
    "$$\n",
    "so:\n",
    "$$\n",
    "\\begin{aligned}\n",
    "\\hat{\\theta}=argmax(J(\\theta))&=argmax(\\sum_{i=1}^nlog(\\frac{p(x_i|y_i)p(y_i)}{p(x_i)}))\\\\\n",
    "&=argmax(\\sum_{i=1}^n log(p(x_i|y_i)p(y_i)))\\\\\n",
    "&=argmax(\\sum_{i=1}^n y_i\\ log(N(\\mu_1,\\Sigma))+(1-y_i)\\ log(N(\\mu_2,\\Sigma))+log(\\phi^{y_i} (1-\\phi)^{1-y_i}))\n",
    "\\end{aligned}\n",
    "$$"
   ]
  },
  {
   "cell_type": "markdown",
   "id": "1c5d6fca",
   "metadata": {},
   "source": [
    "### solve  $\\phi$"
   ]
  },
  {
   "cell_type": "markdown",
   "id": "c75ea08d",
   "metadata": {},
   "source": [
    "differentiate $\\phi$:\n",
    "$$\n",
    "\\sum_{i=1}^{N} \\frac{y_{i}}{\\phi}+\\frac{y_{i}-1}{1-\\phi}=0\n",
    "\\Longrightarrow \\phi=\\frac{\\sum_{i=1}^{N} y_{i}}{N}=\\frac{N_{1}}{N}\n",
    "$$\n",
    "In the formula, $N,N_1,N_2$ denote the number of all samples, positive samples, negative samples."
   ]
  },
  {
   "cell_type": "markdown",
   "id": "4319cfd1",
   "metadata": {},
   "source": [
    "### solve $\\mu$"
   ]
  },
  {
   "cell_type": "markdown",
   "id": "8a9a9a55",
   "metadata": {},
   "source": [
    "make some derivations based on $J(\\theta)$:\n",
    "$$\n",
    "\\begin{aligned} \\hat{\\mu_{1}} \n",
    "&=\\underset{\\mu_{1}}{argmax} \\sum_{i=1}^{N} y_{i} \\log N\\left(\\mu_{1}, \\Sigma\\right) \\\\\n",
    "&=\\underset{\\mu_1}{argmax} \\sum_{i=1}^{N} y_i \\log (\\frac{1}{(2\\pi)^{\\frac{p}{2}}|\\Sigma|^{\\frac{1}{2}}}exp(-\\frac{1}{2}(x_i-\\mu_1)^T(\\Sigma)^{-1}(x_i-\\mu_1)))\\\\\n",
    "&=\\underset{\\mu_{1}}{argmin} \\sum_{i=1}^{N} y_{i}\\left(x_{i}-\\mu_{1}\\right)^{T} \\Sigma^{-1}\\left(x_{i}-\\mu_{1}\\right)\n",
    "\\end{aligned}\n",
    "$$\n",
    "In the above derivations, we quote the probability density function of multivariate Gaussian distribution:\n",
    "$$\n",
    "p(x)=\\frac{1}{(2\\pi)^{\\frac{p}{2}}|\\Sigma|^{\\frac{1}{2}}}exp(-\\frac{1}{2}(x_i-\\mu_1)^T(\\Sigma)^{-1}(x_i-\\mu_1))\n",
    "$$\n",
    "In the function, $p$ denote the number of random variables. Readers can multiply the probability density function of univariate Gaussian distribution, and derive the multivariate formula with the knowledge of linear algebra.\n",
    "\n",
    "then differentiate the formula:\n",
    "$$\n",
    "\\frac{\\partial \\Delta}{\\partial \\mu_1}=\\sum_{i=1}^N -2y_i (\\Sigma)^{-1}(x_i-\\mu_1)=0\\\\\n",
    "\\Longrightarrow \\mu_{1}=\\frac{\\sum_{i=1}^{N} y_{i} x_{i}}{\\sum_{i=1}^{N} y_{i}}=\\frac{\\sum_{i=1}^{N} y_{i} x_{i}}{N_{1}}\n",
    "$$"
   ]
  },
  {
   "cell_type": "markdown",
   "id": "45875780",
   "metadata": {},
   "source": [
    "Since the positive samples and the negative samples are symmetrical, therefore:\n",
    "$$\n",
    "\\mu_{2}=\\frac{\\sum_{i=1}^{N}\\left(1-y_{i}\\right) x_{i}}{N_{2}}\n",
    "$$"
   ]
  },
  {
   "cell_type": "markdown",
   "id": "798ebb73",
   "metadata": {},
   "source": [
    "### solve $\\Sigma$"
   ]
  },
  {
   "cell_type": "markdown",
   "id": "d6202d71",
   "metadata": {},
   "source": [
    "observe the first two terms of the formula:\n",
    "$$\n",
    "\\hat{\\theta}=argmax(\\sum_{i=1}^n y_i\\ log(N(\\mu_1,\\Sigma))+(1-y_i)\\ log(N(\\mu_2,\\Sigma))+log(\\phi^{y_i} (1-\\phi)^{1-y_i}))\n",
    "$$\n",
    "We note that when $y=0$, the first term equals to $0$; when $y=1$, the second term equals to $0$.\n",
    "\n",
    "thus the formula can be updated to:\n",
    "$$\n",
    "\\begin{aligned}\n",
    "\\hat{\\theta}\n",
    "&=argmax(\\sum_{(x_i,y_i)\\in C_1} \\ log(N(\\mu_1,\\Sigma))+\\sum_{(x_i,y_i)\\in C_2}\\ log(N(\\mu_2,\\Sigma)))\\\\\n",
    "&=argmax(\\sum_{(x_i,y_i)\\in C_1} -\\frac{1}{2}\\log|\\Sigma|-\\frac{1}{2}(x_i-\\mu_1)^T(\\Sigma)^{-1}(x_i-\\mu_1)\\ +\n",
    "\\sum_{(x_i,y_i)\\in C_2} -\\frac{1}{2}|\\Sigma|-\\frac{1}{2}(x_i-\\mu_2)^T(\\Sigma)^{-1}(x_i-\\mu_2))\n",
    "\\end{aligned}\n",
    "$$\n",
    "note the shape of $(x_i-\\mu)^T(\\Sigma)^{-1}(x_i-\\mu)$ : $(1,p)* (p,p) * (p,1)=(1,1)$, therefore, the trace(tr) operation can be applied to it, and it can be regarded as a matrix. Within the trace, the order of matrices can be exchanged at will.\n",
    "$$\n",
    "\\begin{aligned}\n",
    "\\hat{\\theta}\n",
    "&=argmax(-\\frac{N}{2}\\log|\\Sigma|-\\frac{1}{2}tr(\\sum_{(x_i,y_i)\\in C_1}(x_i-\\mu_1)^T(\\Sigma)^{-1}(x_i-\\mu_1))\n",
    "-\\frac{1}{2}tr(\\sum_{(x_i,y_i)\\in C_2}(x_i-\\mu_2)^T(\\Sigma)^{-1}(x_i-\\mu_2)))\\\\\n",
    "&=argmax(-\\frac{N}{2}\\log|\\Sigma|-\\frac{1}{2}tr(\\sum_{(x_i,y_i)\\in C_1}(x_i-\\mu_1)^T(x_i-\\mu_1)(\\Sigma)^{-1})\n",
    "-\\frac{1}{2}tr(\\sum_{(x_i,y_i)\\in C_2}(x_i-\\mu_2)^T(x_i-\\mu_2)(\\Sigma)^{-1}))\\\\\n",
    "&=argmax(-\\frac{N}{2}\\log|\\Sigma|-\\frac{1}{2}tr(N_1 S_1(\\Sigma)^{-1})\n",
    "-\\frac{1}{2}tr(N_2 S_2(\\Sigma)^{-1}))\\\\\n",
    "\\end{aligned}\n",
    "$$\n",
    "In the formula, $S$ denote the co-variance matrix.\n",
    "\n",
    "differentiate the formula:\n",
    "$$\n",
    "\\frac{\\partial \\Delta}{\\partial \\Sigma}=-\\frac{1}{2}(N \\frac{1}{|\\Sigma|}|\\Sigma|(\\Sigma)^{-1}-N_1S_1(\\Sigma)^{-2}-N_2S_2(\\Sigma)^{-2})=0\n",
    "$$\n",
    "then we obtain the $\\hat{\\Sigma}$：\n",
    "$$\n",
    "N \\Sigma^{-1}-N_{1} S_{1}^{T} \\Sigma^{-2}-N_{2} S_{2}^{T} \\Sigma^{-2}=0\\\\\n",
    "\\Longrightarrow \\hat{\\Sigma}=\\frac{N_{1} S_{1}+N_{2} S_{2}}{N}\n",
    "$$"
   ]
  },
  {
   "cell_type": "markdown",
   "id": "d0fac2d6",
   "metadata": {},
   "source": [
    "Finally, when we are to predict any samples, we just need to compare $p(x|y=0)p(y=0)$ and $p(x|y=1)p(y=1)$."
   ]
  },
  {
   "cell_type": "markdown",
   "id": "f7953ed6",
   "metadata": {},
   "source": [
    "## Implement"
   ]
  },
  {
   "cell_type": "code",
   "execution_count": 3,
   "id": "83d191fc",
   "metadata": {},
   "outputs": [
    {
     "name": "stdout",
     "output_type": "stream",
     "text": [
      "(0.5, array([[4.54504095],\n",
      "       [1.46351228]]), array([[4.54504095],\n",
      "       [2.47252047]]), array([[14.96809381,  8.07251381],\n",
      "       [ 8.07251381, 14.96809381]]))\n",
      "accuary: 1\n"
     ]
    }
   ],
   "source": [
    "import numpy as np\n",
    "import os\n",
    "os.chdir(\"../\")\n",
    "from models.linear_models import GDA\n",
    "\n",
    "n1 = 1000\n",
    "n_test = 100\n",
    "x = np.linspace(0, 10, n1 + n_test)\n",
    "w1, w2 = 0.3, 0.5\n",
    "b1, b2 = 0.1, 0.2\n",
    "x1 = x[:n1]\n",
    "x_test = x[n1:]\n",
    "v1 = x1 * w1 + b1\n",
    "v2 = x1 * w2 + b2\n",
    "cla_1 = np.c_[x1, v1]\n",
    "cla_2 = np.c_[x1, v2]\n",
    "l1 = np.ones(shape=(cla_1.shape[0], 1))\n",
    "l2 = np.zeros(shape=(cla_2.shape[0], 1))\n",
    "train_data = np.r_[cla_1, cla_2]\n",
    "train_label = np.r_[l1, l2]\n",
    "\n",
    "v_test = x_test * w2 + b2\n",
    "data_test = np.c_[x_test, v_test]\n",
    "\n",
    "model = GDA()\n",
    "model.fit(train_data, train_label)\n",
    "print(model.get_params())\n",
    "print(\"accuary:\", model.evaluate(data_test, 0))"
   ]
  }
 ],
 "metadata": {
  "kernelspec": {
   "display_name": "Python 3",
   "language": "python",
   "name": "python3"
  },
  "language_info": {
   "codemirror_mode": {
    "name": "ipython",
    "version": 3
   },
   "file_extension": ".py",
   "mimetype": "text/x-python",
   "name": "python",
   "nbconvert_exporter": "python",
   "pygments_lexer": "ipython3",
   "version": "3.8.8"
  }
 },
 "nbformat": 4,
 "nbformat_minor": 5
}
