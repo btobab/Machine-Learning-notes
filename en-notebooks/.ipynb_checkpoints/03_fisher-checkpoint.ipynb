{
 "cells": [
  {
   "cell_type": "markdown",
   "id": "e7251d06",
   "metadata": {},
   "source": [
    "### Abstract\n",
    "In this issue, we will learn another algorithm of the binary-classification-hard-output: $LDA$ (linear discriminant analysis). Actually, it's also used to reduce the dimension.\n",
    "\n",
    "We'll select a direction and project the high-dimensional samples to this direction to divide them into two classes."
   ]
  },
  {
   "cell_type": "markdown",
   "id": "de18d0e4",
   "metadata": {},
   "source": [
    "### Idea\n",
    "The core idea of $LDA$ is to make the projected data satisfy two conditions:\n",
    "* the distance between samples within the same class is close\n",
    "* the distance between different classes is large."
   ]
  },
  {
   "cell_type": "markdown",
   "id": "75c2dd8a",
   "metadata": {},
   "source": [
    "### Algorithm\n",
    "Firstly, to reduce the dimension, we have to find out how to calculate the projection length.\n",
    "\n",
    "we assume a sample $x$ and project it to the direction $w$.\n",
    "\n",
    "As we know: $w\\cdot x=||w||*||x||* \\cos{\\theta}$\n",
    "\n",
    "Here we assume $||w||=1$ to detemine the unique $w$ to prevent countless solutions caused by scaling.\n",
    "\n",
    "so $w\\cdot x=||x||*\\cos{\\theta}$\n",
    "\n",
    "And $||x||*\\cos{\\theta}$ is exactly the definition of projection.\n",
    "\n",
    "Therefore, the projection length of the sample on the vector $w$ is $w\\cdot x$.\n",
    "\n",
    "Thus the projection is $z=w^T\\cdot x$"
   ]
  },
  {
   "cell_type": "markdown",
   "id": "4d71342c",
   "metadata": {},
   "source": [
    "We assume the number of samples belonging to the two classes is $N1$,$N2$.\n",
    "\n",
    "Below, as to the first condition: **the distance of sample within the same class is close**, we use the variance matrix to represent the overall distribution of each class.\n",
    "\n",
    "Here we use the definitioin of covariance matrix and the covariance matrix of origin data $x$ is denoted as $S$."
   ]
  },
  {
   "cell_type": "markdown",
   "id": "5ac4ba5c",
   "metadata": {},
   "source": [
    "\\begin{equation}\n",
    "\\begin{aligned}C_1: Var_z[C_1]&=\\frac{1}{N_1}\\sum_{i=1}^{N_1} (z_i-\\overline{z_{c1}})(z_i-\\overline{z_{c1}})^T\\\\\n",
    "&=\\frac{1}{N_1}\\sum_{i=1}^{N_1}(w^T x_i-\\frac{1}{N_1}\\sum_{j=1}^{N_1}w^T x_j)(w^T x_i-\\frac{1}{N_1}\\sum_{j=1}^{N_1}w^T x_j)^T \\\\&=w^T \\frac{1}{N_1}\\sum_{i=1}^{N_1}(x_i-\\frac{1}{N_1}\\sum_{j=1}^{N_1} x_j)(x_i-\\frac{1}{N_1}\\sum_{j=1}^{N_1} x_j)^T w\\\\&=w^{T} \\frac{1}{N_{1}} \\sum_{i=1}^{N_{1}}\\left(x_{i}-\\overline{x_{c 1}}\\right)\\left(x_{i}-\\overline{x_{c 1}}\\right)^{T} w\\\\&=w^T S_1 w\\\\C_2: Var_z[C_2]&=\\frac{1}{N_2}\\sum_{i=1}^{N_2} (z_i-\\overline{z_{c2}})(z_i-\\overline{z_{c2}})^T\\\\&=w^T S_2 w\n",
    "\\end{aligned}\n",
    "\\end{equation}"
   ]
  },
  {
   "cell_type": "markdown",
   "id": "80d5927c",
   "metadata": {},
   "source": [
    "Therefore the distance between classes can be denoted by:\n",
    "$$\n",
    "Var_z[C_1]+Var_z[C_2]=w^T(S_1+S_2)w\n",
    "$$"
   ]
  },
  {
   "cell_type": "markdown",
   "id": "57aa67d3",
   "metadata": {},
   "source": [
    "As to the second condition: **the distance between different classes is large**\n",
    "\n",
    "The distance between classes can be denoted by the difference between the mean projection length of two classes.\n",
    "\\begin{equation}\n",
    "\\begin{aligned}\n",
    "(z_{c1}-z_{c2})^2&=(\\frac{1}{N_1}\\sum_{i=1}^{N_1}w^T x_i - \\frac{1}{N_2}\\sum_{i=1}^{N_2}w^T x_i)^2\\\\\n",
    "&=(w^T(\\frac{1}{N_1}\\sum_{i=1}^{N_1} x_i - \\frac{1}{N_2}\\sum_{i=1}^{N_2} x_i))^2\\\\\n",
    "&=(w^T(\\overline{x_{c1}}-\\overline{x_{c2}}))^2\\\\\n",
    "&=w^T(\\overline{x_{c1}}-\\overline{x_{c2}})(\\overline{x_{c1}}-\\overline{x_{c2}})^T w\n",
    "\\end{aligned}\n",
    "\\end{equation}"
   ]
  },
  {
   "cell_type": "markdown",
   "id": "ff7b41e7",
   "metadata": {},
   "source": [
    "Well, let's look back on our two conditions:\n",
    "* the distance of samples within the same class is close\n",
    "* the distance between different classes is large\n",
    "\n",
    "So it's easy to obtain a intuitive loss function:\n",
    "\\begin{equation}\n",
    "L(w)=\\frac{Var_z[C_1]+Var_z[C_2]}{(z_{c1}-z_{c2})^2}\n",
    "\\end{equation}"
   ]
  },
  {
   "cell_type": "markdown",
   "id": "10e4d58c",
   "metadata": {},
   "source": [
    "Via minimizing the loss function, we can obtain the target $w$:\n",
    "\\begin{equation}\n",
    "\\begin{aligned}\n",
    "\\widehat{w}=argmin(L(w))&=argmin(\\frac{Var_z[C_1]+Var_z[C_2]}{(z_{c1}-z_{c2})^2})\\\\\n",
    "&=argmin(\\frac{w^T(S_1+S_2)w}{w^T(\\overline{x_{c1}}-\\overline{x_{c2}})(\\overline{x_{c1}}-\\overline{x_{c2}})^T w})\\\\\n",
    "&=argmin(\\frac{w^T S_w w}{w^T S_b w})\\\\\n",
    "\\end{aligned}\\end{equation}"
   ]
  },
  {
   "cell_type": "markdown",
   "id": "ac23054e",
   "metadata": {},
   "source": [
    "In the formula:\n",
    "\\begin{equation}\n",
    "\\begin{aligned}\n",
    "&S_w: with-class:variance\\ within\\ the\\ class\\\\\n",
    "&S_b: between-class:variance\\ between\\ classes\\\\\n",
    "\\end{aligned}\n",
    "\\end{equation}"
   ]
  },
  {
   "cell_type": "markdown",
   "id": "bdb7a2cf",
   "metadata": {},
   "source": [
    "The following is the partial derivative of the above formula:\n",
    "\n",
    "\\begin{equation}\n",
    "\\begin{aligned}\n",
    "\\frac{\\partial{L(w)}}{\\partial{w}}\n",
    "&=\\frac{\\partial}{\\partial{w}}(w^T S_w w)(w^T S_b w)^{-1}\\\\\n",
    "&=2S_{b} w\\left(w^{T} S_{w} w\\right)^{-1}-2 w^{T} S_{b} w\\left(w^{T} S_{w} w\\right)^{-2} S_{w} w=0\\\\\n",
    "\\end{aligned} \\end{equation}"
   ]
  },
  {
   "cell_type": "markdown",
   "id": "edeb43c4",
   "metadata": {},
   "source": [
    "try to transform the equation:\n",
    "$$\n",
    "\\begin{aligned}\n",
    "\\left(w^{T} S_{b} w\\right) S_{w} w&=S_{b} w\\left(w^{T} S_{w} w\\right)\\\\\n",
    "\\left(w^{T} S_{b} w\\right) w&=S_{w}^{-1}S_{b} w\\left(w^{T} S_{w} w\\right)\n",
    "\\end{aligned}\n",
    "$$\n",
    "Notes: the shape of $w^T S_b w$ and $w^T S_w w$ is : $(1,p)* (p,p)* (p,1)=(1,1)$\n",
    "\n",
    "Since the two terms are scalars, they only scale the module of a vector and can't change its direction, so the above formula is updated to:\n",
    "$$\n",
    "w \\propto S_{w}^{-1} S_{b} w=S_{w}^{-1}\\left(\\overline{x_{c 1}}-\\overline{x_{c 2}}\\right)\\left(\\overline{x_{c 1}}-\\overline{x_{c 2}}\\right)^{T} w \n",
    "$$\n",
    "And because $\\left(\\overline{x_{c 1}}-\\overline{x_{c 2}}\\right)^{T} w$ is also a scalae, we obtain the final formula:\n",
    "$$\n",
    "\\widehat{w}\\propto S_{w}^{-1}\\left(\\overline{x_{c 1}}-\\overline{x_{c 2}}\\right)\n",
    "$$\n",
    "So $S_{w}^{-1}\\left(\\overline{x_{c 1}}-\\overline{x_{c 2}}\\right)$ is the direction we have been seeking, finally we can get the standard $w$ via scaling."
   ]
  },
  {
   "cell_type": "markdown",
   "id": "962b0444",
   "metadata": {},
   "source": [
    "### Implement"
   ]
  },
  {
   "cell_type": "code",
   "execution_count": 1,
   "id": "58e364a3",
   "metadata": {},
   "outputs": [
    {
     "data": {
      "image/png": "[encoded data removed]",
      "text/plain": [
       "<Figure size 432x288 with 1 Axes>"
      ]
     },
     "metadata": {
      "needs_background": "light"
     },
     "output_type": "display_data"
    }
   ],
   "source": [
    "import numpy as np\n",
    "import matplotlib.pyplot as plt\n",
    "\n",
    "x = np.linspace(0, 100, num=100)\n",
    "w1, b1 = 0.1, 10\n",
    "w2, b2 = 0.3, 30\n",
    "epsilon = 2\n",
    "k = 0.2\n",
    "b = 20\n",
    "w = np.asarray([-k, 1])\n",
    "v1 = x * w1 + b1 + np.random.normal(scale=epsilon, size=x.shape)\n",
    "v2 = x * w2 + b2 + np.random.normal(scale=epsilon, size=x.shape)\n",
    "x1 = np.c_[x, v1]\n",
    "x2 = np.c_[x, v2]\n",
    "data = np.r_[x1, x2]\n",
    "mean_c1 = np.mean(x1, axis=0).reshape((-1, 1))\n",
    "mean_c2 = np.mean(x2, axis=0).reshape((-1, 1))\n",
    "sub1 = mean_c1 - x1.T\n",
    "S_c1 = sub1.dot(sub1.T) / len(x1)\n",
    "sub2 = mean_c2 - x2.T\n",
    "S_c2 = sub2.dot(sub2.T) / len(x2)\n",
    "W = np.linalg.pinv(S_c1 + S_c2).dot(mean_c1 - mean_c2)\n",
    "new_data = data.dot(W)\n",
    "plt.scatter(new_data[:len(x1)], data[:len(x1), 1], c=\"y\", s=5)\n",
    "plt.scatter(new_data[len(x1):], data[len(x1):, 1], c=\"b\", s=5)\n",
    "plt.show()"
   ]
  }
 ],
 "metadata": {
  "kernelspec": {
   "display_name": "Python 3",
   "language": "python",
   "name": "python3"
  },
  "language_info": {
   "codemirror_mode": {
    "name": "ipython",
    "version": 3
   },
   "file_extension": ".py",
   "mimetype": "text/x-python",
   "name": "python",
   "nbconvert_exporter": "python",
   "pygments_lexer": "ipython3",
   "version": "3.8.8"
  },
  "latex_envs": {
   "LaTeX_envs_menu_present": true,
   "autoclose": false,
   "autocomplete": true,
   "bibliofile": "biblio.bib",
   "cite_by": "apalike",
   "current_citInitial": 1,
   "eqLabelWithNumbers": true,
   "eqNumInitial": 1,
   "hotkeys": {
    "equation": "Ctrl-E",
    "itemize": "Ctrl-I"
   },
   "labels_anchors": false,
   "latex_user_defs": false,
   "report_style_numbering": false,
   "user_envs_cfg": false
  }
 },
 "nbformat": 4,
 "nbformat_minor": 5
}
