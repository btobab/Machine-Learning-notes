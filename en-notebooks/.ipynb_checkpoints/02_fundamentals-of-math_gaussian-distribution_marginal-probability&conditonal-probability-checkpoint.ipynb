{
 "cells": [
  {
   "cell_type": "markdown",
   "id": "a780d25f",
   "metadata": {},
   "source": [
    "## Abstract"
   ]
  },
  {
   "cell_type": "markdown",
   "id": "29f89541",
   "metadata": {},
   "source": [
    "In this section, we study the edge probability and conditional probability of multivariate Gaussian distribution"
   ]
  },
  {
   "cell_type": "markdown",
   "id": "5fc9f8c7",
   "metadata": {},
   "source": [
    "## Prior Knowledeg"
   ]
  },
  {
   "cell_type": "markdown",
   "id": "0129e39d",
   "metadata": {},
   "source": [
    "In the previous section, we derived the probability density function of multivariate Gaussian distribution:\n",
    "$$\n",
    "x \\sim N(\\mu, \\Sigma) = \\frac{1}{(2\\pi)^{\\frac{p}{2}}|\\Sigma|^\\frac{1}{2}}\\exp(-\\frac{1}{2}(x-\\mu)^T \\Sigma^{-1}(x-\\mu))\n",
    "$$\n",
    "Now let's split the random variable $x$ into two parts:\n",
    "$$\n",
    "x \\in R^p \\quad x_a \\in R^m \\quad x_b \\in R^n \\quad m+n=p \\quad \n",
    "$$\n",
    "$$\n",
    "x = \n",
    "\\left (\n",
    "\\begin{matrix}\n",
    "x_a \\\\\n",
    "x_b \\\\\n",
    "\\end{matrix}\n",
    "\\right )\n",
    "\\quad \n",
    "\\mu = \n",
    "\\left (\n",
    "\\begin{matrix}\n",
    "\\mu_a \\\\\n",
    "\\mu_b \\\\\n",
    "\\end{matrix}\n",
    "\\right ) \\quad\n",
    "\\Sigma=\n",
    "\\left (\n",
    "\\begin{matrix}\n",
    "\\Sigma_{aa} & \\Sigma_{ab}\\\\\n",
    "\\Sigma_{ba} & \\Sigma_{bb}\\\\\n",
    "\\end{matrix}\n",
    "\\right )\n",
    "$$"
   ]
  },
  {
   "cell_type": "markdown",
   "id": "d0c16bf1",
   "metadata": {},
   "source": [
    "## Theorem"
   ]
  },
  {
   "cell_type": "markdown",
   "id": "8f454963",
   "metadata": {},
   "source": [
    "$$\n",
    "X \\sim N(\\mu, \\Sigma) \\quad Y=AX+B  \\Longrightarrow Y \\sim N(A\\mu+B, A \\Sigma A^T)\n",
    "$$"
   ]
  },
  {
   "cell_type": "markdown",
   "id": "4cd4f019",
   "metadata": {},
   "source": [
    "## Derive marginal probability"
   ]
  },
  {
   "cell_type": "markdown",
   "id": "7ee48bd8",
   "metadata": {},
   "source": [
    "$$\n",
    "x_a = \n",
    "\\left (\n",
    "\\begin{matrix}\n",
    "I & 0\n",
    "\\end{matrix}\n",
    "\\right )\n",
    "\\left (\n",
    "\\begin{matrix}\n",
    "x_a \\\\\n",
    "x_b\\\\\n",
    "\\end{matrix}\n",
    "\\right ) + 0\n",
    "$$\n",
    "$$\n",
    "E[x_a] = \n",
    "\\left (\n",
    "\\begin{matrix}\n",
    "I & 0\n",
    "\\end{matrix}\n",
    "\\right )\n",
    "\\left (\n",
    "\\begin{matrix}\n",
    "\\mu_a \\\\\n",
    "\\mu_b \\\\\n",
    "\\end{matrix}\n",
    "\\right ) = \\mu_a\n",
    "$$\n",
    "$$\n",
    "\\begin{aligned}\n",
    "Var[x_a] &= \n",
    "\\left (\n",
    "\\begin{matrix}\n",
    "I & 0\n",
    "\\end{matrix}\n",
    "\\right )\n",
    "\\left (\n",
    "\\begin{matrix}\n",
    "\\Sigma_{aa} & \\Sigma_{ab} \\\\\n",
    "\\Sigma_{ba} & \\Sigma_{bb} \\\\\n",
    "\\end{matrix}\n",
    "\\right )\n",
    "\\left (\n",
    "\\begin{matrix}\n",
    "I \\\\\n",
    "0\n",
    "\\end{matrix}\n",
    "\\right ) \\\\\n",
    "&= \n",
    "\\left (\n",
    "\\begin{matrix}\n",
    "\\Sigma_{aa} & \\Sigma_{ab} \n",
    "\\end{matrix}\n",
    "\\right )\n",
    "\\left (\n",
    "\\begin{matrix}\n",
    "I \\\\\n",
    "0\n",
    "\\end{matrix}\n",
    "\\right )\\\\\n",
    "&=\\Sigma_{aa}\n",
    "\\end{aligned}\n",
    "$$\n",
    "\n",
    "$$\n",
    "\\therefore x_a \\sim N(\\mu_a, \\Sigma_{aa})\n",
    "$$"
   ]
  },
  {
   "cell_type": "markdown",
   "id": "9b3843de",
   "metadata": {},
   "source": [
    "## Derive conditional probability"
   ]
  },
  {
   "cell_type": "markdown",
   "id": "b9c2f893",
   "metadata": {},
   "source": [
    "**Let's set:**\n",
    "$$\n",
    "\\begin{cases}\n",
    "x_{b.a}=x_b - \\Sigma_{ba} \\Sigma_{aa}^{-1} x_a \\\\\n",
    "\\mu_{b.a} = \\mu_b - \\Sigma_{b.a} \\Sigma_{aa}^{-1} \\mu_a \\\\\n",
    "\\Sigma_{bb.a}=\\Sigma_{bb} - \\Sigma_{ba} \\Sigma_{aa}^{-1} \\Sigma_{ab}\n",
    "\\end{cases}\n",
    "$$"
   ]
  },
  {
   "cell_type": "markdown",
   "id": "77ebbead",
   "metadata": {},
   "source": [
    "$$\n",
    "\\begin{aligned}\n",
    "x_{b.a} &= x_b - \\Sigma_{ba} \\Sigma_{bb}^{-1} x_a \\\\\n",
    "&=\n",
    "\\left (\n",
    "\\begin{matrix}\n",
    "- \\Sigma_{ba} \\Sigma_{bb}^{-1} & I\\\\\n",
    "\\end{matrix}\n",
    "\\right )\n",
    "\\left (\n",
    "\\begin{matrix}\n",
    "x_a \\\\\n",
    "x_b \\\\\n",
    "\\end{matrix}\n",
    "\\right ) + 0\n",
    "\\end{aligned}\n",
    "$$"
   ]
  },
  {
   "cell_type": "markdown",
   "id": "c79a5487",
   "metadata": {},
   "source": [
    "$$\n",
    "\\begin{aligned}\n",
    "E[x_{b.a}]\n",
    "&=\n",
    "\\left (\n",
    "\\begin{matrix}\n",
    "-\\Sigma_{ba} \\Sigma_{aa}^{-1} & I\n",
    "\\end{matrix}\n",
    "\\right )\n",
    "\\left (\n",
    "\\begin{matrix}\n",
    "\\mu_a \\\\\n",
    "\\mu_b \\\\\n",
    "\\end{matrix}\n",
    "\\right )\\\\\n",
    "&=\\mu_b - \\Sigma_{ba} \\Sigma_{aa}^{-1} \\mu_a\\\\\n",
    "&=\\mu_{b.a}\n",
    "\\end{aligned}\n",
    "$$"
   ]
  },
  {
   "cell_type": "markdown",
   "id": "dfb7dffe",
   "metadata": {},
   "source": [
    "$$\n",
    "\\begin{aligned}\n",
    "Var[x_{b.a}]\n",
    "&= \\left ( \\begin{matrix}\n",
    "-\\Sigma_{ba} \\Sigma_{aa}^{-1} & I\n",
    "\\end{matrix} \\right )\n",
    "\\left ( \\begin{matrix}\n",
    "\\Sigma_{aa} & \\Sigma_{ab} \\\\\n",
    "\\Sigma_{ba} & \\Sigma_{bb} \\\\\n",
    "\\end{matrix} \\right )\n",
    "\\left ( \\begin{matrix}\n",
    "-\\Sigma_{aa}^{-1} \\Sigma_{ba}^T \\\\\n",
    "I\n",
    "\\end{matrix} \\right ) \\\\\n",
    "&=\\left ( \\begin{matrix}\n",
    "0 & \\Sigma_{bb} - \\Sigma_{ba} \\Sigma_{aa}^{-1} \\Sigma_{ab} \\\\\n",
    "\\end{matrix} \\right ) \n",
    "\\left ( \\begin{matrix}\n",
    "-\\Sigma_{aa}^{-1} \\Sigma_{ba}^T \\\\\n",
    "I\n",
    "\\end{matrix} \\right ) \\\\\n",
    "&=\\Sigma_{bb} - \\Sigma_{ba} \\Sigma_{aa}^{-1} \\Sigma_{ab}\\\\\n",
    "&=\\Sigma_{bb.a}\n",
    "\\end{aligned}\n",
    "$$"
   ]
  },
  {
   "cell_type": "markdown",
   "id": "a7b35942",
   "metadata": {},
   "source": [
    "$$\n",
    "\\therefore x_{b.a} \\sim N(\\mu_{b.a}, \\Sigma_{bb.a})\n",
    "$$\n",
    "$$\n",
    "\\begin{cases}\n",
    "\\mu_{b.a} = \\mu_b - \\Sigma_{ba} \\Sigma_{aa}^{-1} \\mu_a \\\\\n",
    "\\Sigma_{bb.a}=\\Sigma_{bb} - \\Sigma_{ba} \\Sigma_{aa}^{-1} \\Sigma_{ab}\n",
    "\\end{cases}\n",
    "$$"
   ]
  },
  {
   "cell_type": "markdown",
   "id": "a70d625b",
   "metadata": {},
   "source": [
    "We slightly modify the formula:\n",
    "\n",
    "$$\n",
    "\\begin{aligned}\n",
    "x_{b.a}\n",
    "&=x_b - \\Sigma_{ba} \\Sigma_{aa}^{-1} x_a\\\\\n",
    "x_b | x_a&=x_{b.a} + \\Sigma_{ba} \\Sigma_{aa}^{-1} x_a\\\\\n",
    "&=I x_{b.a} + C\\\\\n",
    "\\end{aligned}\n",
    "$$\n",
    "Here, all parts of the covariance matrix  $\\Sigma_{ba} \\ \\Sigma_{aa}$  can be calculated, so it can be regarded as a constant.\n",
    "\n",
    "And what we're asking for here is $x_b | x_a$, so $x_a$ is also known, so the second term of the above formula can be regarded as a constant.\n",
    "\n",
    "therefore:\n",
    "$$\n",
    "E[x_b|x_a]=I E[x_{b.a}] + C = \\mu_{b.a} + \\Sigma_{ba} \\Sigma_{aa}^{-1} x_a\n",
    "$$\n",
    "$$\n",
    "Var[x_b|x_a]=IVar[x_{b.a}]I^T=\\Sigma_{bb.a}\n",
    "$$\n",
    "\n",
    "then we get the conditional probability of multivariate gaussian distribution:\n",
    "$$\n",
    "x_b|x_a \\sim N(\\mu_{b.a} + \\Sigma_{ba} \\Sigma_{aa}^{-1} x_a, \\Sigma_{bb.a})\n",
    "$$"
   ]
  }
 ],
 "metadata": {
  "kernelspec": {
   "display_name": "Python 3",
   "language": "python",
   "name": "python3"
  },
  "language_info": {
   "codemirror_mode": {
    "name": "ipython",
    "version": 3
   },
   "file_extension": ".py",
   "mimetype": "text/x-python",
   "name": "python",
   "nbconvert_exporter": "python",
   "pygments_lexer": "ipython3",
   "version": "3.8.8"
  }
 },
 "nbformat": 4,
 "nbformat_minor": 5
}
