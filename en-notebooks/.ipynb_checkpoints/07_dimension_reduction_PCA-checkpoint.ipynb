{
 "cells": [
  {
   "cell_type": "markdown",
   "id": "0faba8bc",
   "metadata": {},
   "source": [
    "## Abstract\n",
    "In this issue, we begin to learn the algorithm of dimension reduction.\n",
    "\n",
    "As we know, dimension reduction is the best way to solve the problem of over fitting, in addition to increasing data and regularization.\n",
    "\n",
    "In fact, the predecessors had encountered dimensional disasters earlier. We know that the volume of the $n $ dimensional sphere is\n",
    "$$\n",
    "CR^n\n",
    "$$\n",
    "Therefore, the ratio of the volume of the sphere to the $n$ dimensional hypercube is\n",
    "<img src=\"https://latex.codecogs.com/svg.image?\\lim_{n&space;\\to&space;&plus;\\infty}=\\frac{CR^n}{2^n&space;R^n}=0\" title=\"\\lim_{n \\to +\\infty}=\\frac{CR^n}{2^n R^n}=0\" />\n",
    "From the formula, we can see that in high-dimensional data, the distribution of samples is quite sparse, and the interior of hypercube is almost hollow, so it is more difficult to model the data. This is the so-called dimensional disaster.\n",
    "\n",
    "The dimensionality reduction methods are divided into:\n",
    "* Direct dimensionality reduction, feature selection\n",
    "* Linear dimensionality reduction, $PCA$，$MDS$等\n",
    "* Piecewise linear, manifolds include $Isomap$, $LLE$ etc."
   ]
  },
  {
   "cell_type": "markdown",
   "id": "f59bfefe",
   "metadata": {},
   "source": [
    "## Idea"
   ]
  },
  {
   "cell_type": "markdown",
   "id": "13294d04",
   "metadata": {},
   "source": [
    "As for the core idea of $PCA$, the teacher summarized a line: one center, two basic points\n",
    "* one center:\n",
    "    * to transform each feature that may be linearly related into a set of linearly independent features via an orthogonal transformation.\n",
    "    * That is, to reconstruct the original feature space.\n",
    "* Two basic points:\n",
    "    * Maximum Projection Variance\n",
    "        * Make the data more dispersed in the reconstructed feature space (because the original data is clustered together and scattered in corners)\n",
    "    * Minimum Reconfiguration Distance\n",
    "        * to minimize the loss of information (i.e., fewer components of the complementary space) after the data has been reconstructed"
   ]
  },
  {
   "cell_type": "markdown",
   "id": "f2e236c6",
   "metadata": {},
   "source": [
    "## Algorithm\n",
    "we'll mainly talk about the first basic point: maximum projection variance. In fact, the two basic points mean the same thing, but interpret a center from different angles.\n",
    "\n",
    "Firstly,we are to review the projection. We have talked about projection before, and the same is true here. Let's assume sample $x_ i $, a base vector $u_ i $, assuming $u_ i^Tu_ i = 1 $, so you can get the projection of the sample in  this dimension $u_ i $ is\n",
    "$$\n",
    "project_i=x_i^Tu_i\n",
    "$$\n",
    "After orthogonal transformation, the sample originally has $p $ feature dimensions. Because we need to reduce the dimension, we only take the first $q $ features, and these $q $ features are linearly independent. Therefore, these projections can be directly added to obtain the projection of the sample in the new feature space.\n",
    "\n",
    "Note that the data is centered before the projection, so the mean value of the data is changed to zero, and the variance of the projection can be squared directly.\n",
    "\n",
    "To sum up, we get the objective function:\n",
    "$$\n",
    "J=\\frac{1}{N} \\sum_{i=1}^{N} \\sum_{j=1}^{q}\\left(\\left(x_{i}-\\bar{x}\\right)^{T} u_{j}\\right)^{2}\n",
    "$$\n",
    "The objective function is derived slightly below:\n",
    "\n",
    "since the shape of $((x_i-\\bar{x})^Tu_j)$ is $(1,p)* (p,1)=(1,1)$, therefore, it can be transposed:\n",
    "$$\n",
    "\\begin{aligned}\n",
    "J&=\\frac{1}{N} \\sum_{i=1}^{N} \\sum_{j=1}^{q}\\left(\\left(x_{i}-\\bar{x}\\right)^{T} u_{j}\\right)^{2}\\\\\n",
    "&=\\frac{1}{N} \\sum_{i=1}^{N} \\sum_{j=1}^{q}(u_{j}^T(x_{i}-\\bar{x}))^{2}\\\\\n",
    "&=\\frac{1}{N} \\sum_{i=1}^{N} \\sum_{j=1}^{q}u_{j}^T(x_{i}-\\bar{x}))(x_{i}-\\bar{x})^T u_j\\\\\n",
    "&=\\sum_{j=1}^{q} u_{j}^T(\\frac{1}{N} \\sum_{i=1}^{N} (x_{i}-\\bar{x}))(x_{i}-\\bar{x})^T) u_j\\\\\n",
    "&=\\sum_{j=1}^q u_j^T S u_j\\\\\n",
    "\\end{aligned}\n",
    "$$\n",
    "Don't forget that we have another condition: $s.t\\ u_j^T u_j=1$\n",
    "\n",
    "So you can use Lagrange multiplier:\n",
    "<img src=\"https://latex.codecogs.com/svg.image?\\underset{u_{j}}{\\operatorname{argmax}}&space;L\\left(u_{j},&space;\\lambda\\right)=\\underset{u_{j}}{\\operatorname{argmax}}&space;u_{j}^{T}&space;S&space;u_{j}&plus;\\lambda\\left(1-u_{j}^{T}&space;u_{j}\\right)\" title=\"\\underset{u_{j}}{\\operatorname{argmax}} L\\left(u_{j}, \\lambda\\right)=\\underset{u_{j}}{\\operatorname{argmax}} u_{j}^{T} S u_{j}+\\lambda\\left(1-u_{j}^{T} u_{j}\\right)\" />\n",
    "To derive from the above:\n",
    "$$\n",
    "\\frac{\\partial \\Delta}{\\partial u_j}=2S u_j -2\\lambda u_j=0\n",
    "$$\n",
    "we get:\n",
    "$$\n",
    "S u_j = \\lambda u_j\n",
    "$$\n",
    "You can see that the transformed base vector is actually the eigenvector of the covariance matrix, $\\lambda$ is the eigenvalue of $S$."
   ]
  },
  {
   "cell_type": "markdown",
   "id": "40bf8682",
   "metadata": {},
   "source": [
    "In fact, the solution of covariance matrices can also be simplified:\n",
    "$$\n",
    "\\begin{aligned}\n",
    "S &=\\frac{1}{N} \\sum_{i=1}^{N}\\left(x_{i}-\\bar{x}\\right)\\left(x_{i}-\\bar{x}\\right)^{T} \\\\\n",
    "&=\\frac{1}{N}\\left(x_{1}-\\bar{x}, x_{2}-\\bar{x}, \\cdots, x_{N}-\\bar{x}\\right)\\left(x_{1}-\\bar{x}, x_{2}-\\bar{x}, \\cdots, x_{N}-\\bar{x}\\right)^{T} \\\\\n",
    "&=\\frac{1}{N}\\left(X^{T}-\\frac{1}{N} X^{T} I_{N} I_{N}^{T}\\right)\\left(X^{T}-\\frac{1}{N} X^{T} I_{N} I_{N}^{T}\\right)^{T} \\\\\n",
    "&=\\frac{1}{N} X^{T}\\left(E_{N}-\\frac{1}{N} I_{N} I_{N}^T\\right)\\left(E_{N}-\\frac{1}{N} I_{N} I_{N}^T\\right)^{T} X \\\\\n",
    "&=\\frac{1}{N} X^{T} H_{N} H_{N}^{T} X \\\\\n",
    "&=\\frac{1}{N} X^{T} H_{N} H_{N} X=\\frac{1}{N} X^{T} H X\n",
    "\\end{aligned}\n",
    "$$\n",
    "Here, $H$ is a special matrix, called a central matrix.\n",
    "$$\n",
    "H=E_N - \\frac{1}{N}I_N I_N^T\n",
    "$$\n",
    "Therefore, in practice, we only need to find the covariance matrix using the above formula, and then decompose it orthogonally to get the eigenvalues and eigenvectors."
   ]
  },
  {
   "cell_type": "markdown",
   "id": "498fc468",
   "metadata": {},
   "source": [
    "## Implement"
   ]
  },
  {
   "cell_type": "code",
   "execution_count": 1,
   "id": "1bb846c0",
   "metadata": {},
   "outputs": [
    {
     "data": {
      "image/png": "[encoded data removed]",
      "text/plain": [
       "<Figure size 432x288 with 1 Axes>"
      ]
     },
     "metadata": {
      "needs_background": "light"
     },
     "output_type": "display_data"
    }
   ],
   "source": [
    "import numpy as np\n",
    "import os\n",
    "os.chdir(\"../\")\n",
    "from models.decompose_models import PCA\n",
    "\n",
    "k, b = 3, 4\n",
    "x = np.linspace(0, 10, 100)\n",
    "y = x * k + b\n",
    "x += np.random.normal(scale=0.3, size=x.shape)\n",
    "data = np.c_[x, y]\n",
    "\n",
    "model = PCA()\n",
    "model.fit(data)\n",
    "model.draw(data)"
   ]
  }
 ],
 "metadata": {
  "kernelspec": {
   "display_name": "Python 3",
   "language": "python",
   "name": "python3"
  },
  "language_info": {
   "codemirror_mode": {
    "name": "ipython",
    "version": 3
   },
   "file_extension": ".py",
   "mimetype": "text/x-python",
   "name": "python",
   "nbconvert_exporter": "python",
   "pygments_lexer": "ipython3",
   "version": "3.8.8"
  }
 },
 "nbformat": 4,
 "nbformat_minor": 5
}
