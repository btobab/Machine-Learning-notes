{
 "cells": [
  {
   "cell_type": "markdown",
   "id": "3fbaf316",
   "metadata": {},
   "source": [
    "## Abstract\n",
    "In this issue, we will learn an algorithm for binary classification - soft output: $Logistic\\ regression$. It mainly relies on an activation function: $sigmoid$. Since the range of the function is $(0,1)$, it can approximate the probability value."
   ]
  },
  {
   "cell_type": "markdown",
   "id": "847cdb19",
   "metadata": {},
   "source": [
    "## Origin\n",
    "The following is the explanation of sigmoid in $shuhuai$ teacher's handout.\n",
    ">Sometimes we only need to get the probability of a category, so we need a function that can output the value of $(0, 1)$ interval. Considering the two classification model, we hope to model $p(C|x)$ using the discriminant model and Bayesian theorem:\n",
    "$$\n",
    "p\\left(C_{1} \\mid x\\right)=\\frac{p\\left(x \\mid C_{1}\\right) p\\left(C_{1}\\right)}{p\\left(x \\mid C_{1}\\right) p\\left(C_{1}\\right)+p\\left(x \\mid C_{2}\\right) p\\left(C_{2}\\right)}\n",
    "$$\n",
    "set $a=\\ln \\frac{p\\left(x \\mid C_{1}\\right) p\\left(C_{1}\\right)}{p\\left(x \\mid C_{2}\\right) p\\left(C_{2}\\right)}$, so:\n",
    "$$\n",
    "p\\left(C_{1} \\mid x\\right)=\\frac{1}{1+\\exp (-a)}\n",
    "$$\n",
    "\n",
    "The above formula is called $Logistic\\ Sigmoid$ function and its parameters denote the logarithm of the two types of the joint probability ratios. In the discriminant, we don't care the specific value of the parameter and we just use the form of the function.\n",
    "\n",
    "Of course, it doesn't matter if we can't understand tearcher's advanced explanation. We just need to know that we have the activation function $sigmoid$ now, which can be used to get the probability of a category."
   ]
  },
  {
   "cell_type": "markdown",
   "id": "58bf80ff",
   "metadata": {},
   "source": [
    "## Algorithm"
   ]
  },
  {
   "cell_type": "markdown",
   "id": "aa513ec1",
   "metadata": {},
   "source": [
    "Firstly, we suppose the logistic regression model is:\n",
    "$$\n",
    "f(x)=\\sigma(w^Tx)\n",
    "$$\n",
    "In the formula, $\\sigma(a)=sigmoid(a)$, we usually denote the activation function by $\\sigma$.\n",
    "\n",
    "So, if we find out the best value of $w$, the best model under the assumption is determined.\n",
    "\n",
    "The parameters of probability discrinant model is usually determined by maximum likelihood estimation.\n",
    "\n",
    "To determine the likelihood function, we have to make some marks firstly:\n",
    "$$\n",
    "p_1=\\sigma(w^Tx) \\qquad p_0=1-p_1\n",
    "$$\n",
    "In the formula, $p_1$ is the probability of $x$ belonging to class $1$ and $p_0$ is the probability of class $0$.\n",
    "\n",
    "Then we can obtain the likelihood function of the model:\n",
    "$$\n",
    "p(y|w;x)=p_1^yp_0^{1-y}\n",
    "$$\n",
    "The likelihood function seem to be a little obscure, but actually it's reasonable:\n",
    "* when $y$ is $1$: $p(y|w;x)=p_1^1p_0^0=p_1$\n",
    "* when $y$ is $0$: $p(y|w;x)=p_1^0p_0^1=p_0$\n",
    "\n",
    "Well, then we can determine the parameters via $MLE$.\n",
    "\\begin{equation}\n",
    "\\begin{aligned}\n",
    "\\hat{w}=argmax(J(w))&=argmax(p(Y|w;X))\\\\\n",
    "&=argmax(log(p(Y|w;X)))\\\\\n",
    "&=argmax(log(\\prod_{i=1}^n p(y_i|w;x_i)))\\\\\n",
    "&=argmax(\\sum_{i=1}^n log(p(y_i)|w;x_i))\\\\\n",
    "&=argmax(\\sum_{i=1}^n y\\ log\\, p_1+(1-y)log\\,p_0)\n",
    "\\end{aligned}\n",
    "\\end{equation}\n",
    "Notes, the formula is the opposite of the cross entropy formula mutiplied by $N$ and the logarithm in $MLE$ also match the exponential function to obtain the stable gradient in a large interval.\n",
    "\n",
    "By differentiating the above formula, we note that:\n",
    "$$\n",
    "p_1'=p_1(1-p_1)\n",
    "$$\n",
    "Of course, it's easy to obtain since it's just the chain rule. We only need to be a little bit careful.\n",
    "\n",
    "Finally, we obtain the result:\n",
    "$$\n",
    "\\frac{\\partial}{\\partial w}J(w)=\\sum_{i=1}^{N}\\left(y_{i}-p_{1}\\right) x_{i}\n",
    "$$\n",
    "Last but not least, we are to obtain the maximun of $p(p|w;x)$, so we need to use gradient ascent instead of gradient descent. Certainly they are similar, just add a negative character."
   ]
  },
  {
   "cell_type": "code",
   "execution_count": 2,
   "id": "da3a9a63",
   "metadata": {},
   "outputs": [
    {
     "name": "stdout",
     "output_type": "stream",
     "text": [
      "[[ 2.34954661]\n",
      " [-0.50817047]\n",
      " [ 3.07719068]]\n",
      "1.0\n"
     ]
    }
   ],
   "source": [
    "import os\n",
    "os.chdir(\"../\")\n",
    "from models.linear_models import Logistic_regression\n",
    "import numpy as np\n",
    "import warnings\n",
    "warnings.filterwarnings(\"ignore\")\n",
    "\n",
    "\n",
    "epsilon = 1\n",
    "num_test = 100\n",
    "num_base = 1000\n",
    "ratio = 0.6\n",
    "k1, k2 = 3, 5\n",
    "b1, b2 = 1, 2\n",
    "X = np.linspace(0, 100, num_base)\n",
    "X_train = X[:-num_test]\n",
    "X_test = X[-num_test:]\n",
    "v1 = X_train[:round(len(X_train) * ratio)] * k1 + b1\n",
    "v2 = X_train[round(len(X_train) * ratio):] * k2 + b2\n",
    "v1 += np.random.normal(scale=epsilon, size=v1.shape)\n",
    "v2 += np.random.normal(scale=epsilon, size=v2.shape)\n",
    "value = np.r_[v1, v2]\n",
    "data = np.c_[X_train, value]\n",
    "l1 = np.ones_like(v1)\n",
    "l2 = np.zeros_like(v2)\n",
    "label = np.r_[l1, l2]\n",
    "v_test_c1 = X_test * k1 + b1\n",
    "l_test_c1 = np.ones_like(v_test_c1)\n",
    "data_test = np.c_[X_test, v_test_c1]\n",
    "\n",
    "model = Logistic_regression(10, 1000, lr=1e-3)\n",
    "model.fit(data, label)\n",
    "print(model.get_params())\n",
    "print(model.predict(data_test, l_test_c1))"
   ]
  }
 ],
 "metadata": {
  "kernelspec": {
   "display_name": "Python 3",
   "language": "python",
   "name": "python3"
  },
  "language_info": {
   "codemirror_mode": {
    "name": "ipython",
    "version": 3
   },
   "file_extension": ".py",
   "mimetype": "text/x-python",
   "name": "python",
   "nbconvert_exporter": "python",
   "pygments_lexer": "ipython3",
   "version": "3.8.8"
  },
  "latex_envs": {
   "LaTeX_envs_menu_present": true,
   "autoclose": false,
   "autocomplete": true,
   "bibliofile": "biblio.bib",
   "cite_by": "apalike",
   "current_citInitial": 1,
   "eqLabelWithNumbers": true,
   "eqNumInitial": 1,
   "hotkeys": {
    "equation": "Ctrl-E",
    "itemize": "Ctrl-I"
   },
   "labels_anchors": false,
   "latex_user_defs": false,
   "report_style_numbering": false,
   "user_envs_cfg": false
  }
 },
 "nbformat": 4,
 "nbformat_minor": 5
}
