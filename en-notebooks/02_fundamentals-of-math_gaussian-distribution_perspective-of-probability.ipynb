{
 "cells": [
  {
   "cell_type": "markdown",
   "id": "e851feaf",
   "metadata": {},
   "source": [
    "## Abstract\n",
    "In this issue, we will observe multivariate Gaussian distribution from the perspective of probability."
   ]
  },
  {
   "cell_type": "markdown",
   "id": "1bdebe9c",
   "metadata": {},
   "source": [
    "## Prior Knowledge\n",
    "$$\n",
    "x \\sim N(\\mu, \\sigma^2)\n",
    "$$\n",
    "$$\n",
    "\\mu \\in R^p, \\sigma \\in R^p\n",
    "$$\n",
    "$$\n",
    "x_i \\sim N(\\mu_i, \\sigma_i)\n",
    "$$\n",
    "$$\n",
    "p(x_i) = \\frac{1}{\\sqrt{2\\pi}\\sigma_i} \\exp(-\\frac{(x_i - \\mu_i)^2}{2\\sigma_i^2})\n",
    "$$"
   ]
  },
  {
   "cell_type": "markdown",
   "id": "cfabd31b",
   "metadata": {},
   "source": [
    "## Derivation"
   ]
  },
  {
   "cell_type": "markdown",
   "id": "ded546bf",
   "metadata": {},
   "source": [
    "First, let's assume that each $x_i$ is $iid (independent\\quad identically\\quad distribution)$\n",
    "\n",
    "as below:\n",
    "$$\n",
    "\\begin{aligned}\n",
    "p(x)\n",
    "&=\\prod_{i=1}^p p(x_i)\\\\\n",
    "&=\\frac{1}{(2\\pi)^{\\frac{p}{2}}\\prod_{i=1}^p \\sigma_i} \\exp(-\\frac{1}{2}\\sum_{i=1}^p (\\frac{(x_i-\\mu_i)^2}{\\sigma_i^2}))\\\\\n",
    "&=\\frac{1}{(2\\pi)^{\\frac{p}{2}}|\\Sigma|^{\\frac{1}{2}}} \\exp[-\\frac{1}{2}\n",
    "\\left (\n",
    "\\begin{matrix}\n",
    "x_1-\\mu_1 & x_2-\\mu_2 & ... & x_p - \\mu_p\n",
    "\\end{matrix}\n",
    "\\right )\n",
    "\\left (\n",
    "\\begin{matrix}\n",
    "\\frac{1}{\\sigma_1^2} & 0 & ... & 0 \\\\\n",
    "... & ... & ... & ... \\\\\n",
    "0 & ... & 0 & \\frac{1}{\\sigma_p^2}\n",
    "\\end{matrix}\n",
    "\\right )\n",
    "\\left (\n",
    "\\begin{matrix}\n",
    "x_1-\\mu_1\\\\\n",
    ".&\\\\\n",
    ".&\\\\\n",
    "x_p-\\mu_p\\\\\n",
    "\\end{matrix}\n",
    "\\right )]\\\\\n",
    "&=\\frac{1}{(2\\pi)^{\\frac{p}{2}}|\\Sigma|^{\\frac{1}{2}}} \\exp[-\\frac{1}{2}(x-\\mu)^T \\Sigma^{-1}(x-\\mu)]\n",
    "\\end{aligned}\n",
    "$$\n",
    "The above is the probability density function of multivariate Gaussian distribution."
   ]
  },
  {
   "cell_type": "markdown",
   "id": "9840b1ec",
   "metadata": {},
   "source": [
    "We know that $\\sigma$ is a positive semidefinite matrix, so we can perform singular value decomposition. So we have:\n",
    "$$\n",
    "\\begin{aligned}\n",
    "\\Sigma\n",
    "&=UVU^T\\\\\n",
    "&=\n",
    "\\left ( \\begin{matrix}\n",
    "u_1 & ... & u_p\n",
    "\\end{matrix} \\right )\n",
    "\\left ( \\begin{matrix}\n",
    "\\lambda_1 & 0 & ... & 0\\\\\n",
    "... & 0 & ... & ...\\\\\n",
    "0 & ... & ... & \\lambda_p\n",
    "\\end{matrix} \\right )\n",
    "\\left ( \\begin{matrix}\n",
    "u_1^T \\\\\n",
    ".\\\\\n",
    ".\\\\\n",
    "u_p^T\n",
    "\\end{matrix} \\right )\\\\\n",
    "&=\n",
    "\\left ( \\begin{matrix}\n",
    "u_1\\lambda_1 & ... & u_p \\lambda_p\\\\\n",
    "\\end{matrix} \\right )\n",
    "\\left ( \\begin{matrix}\n",
    "u_1^T\\\\\n",
    ".\\\\\n",
    ".\\\\\n",
    "u_p^T\n",
    "\\end{matrix} \\right )\\\\\n",
    "&=\\sum_{i=1}^p u_i\\lambda_i u_i^T\n",
    "\\end{aligned}\n",
    "$$\n",
    "then\n",
    "$$\n",
    "\\begin{aligned}\n",
    "\\Sigma^{-1}\n",
    "&=(UVU^T)^{-1}\\\\\n",
    "&=(U^T)^{-1}V^{-1}U^{-1}\\\\\n",
    "&=UV^{-1}U^T\\\\\n",
    "&=\\sum_{i=1}^p u_i \\frac{1}{\\lambda_i} u_i^T\n",
    "\\end{aligned}\n",
    "$$"
   ]
  },
  {
   "cell_type": "markdown",
   "id": "2b0e14fd",
   "metadata": {},
   "source": [
    "Let's set $\\Delta = (x-\\mu)^T \\Sigma^{-1} (x-\\mu)$\n",
    "\n",
    "Substitute the results derived above into:\n",
    "$$\n",
    "\\begin{aligned}\n",
    "\\Delta\n",
    "&=(x-\\mu)^T \\Sigma^{-1} (x-\\mu)\\\\\n",
    "&=(x-\\mu)^T \\sum_{i=1}^p u_i \\frac{1}{\\lambda_i}u_i^T (x-\\mu)\\\\\n",
    "&=\\sum_{i=1}^p(x-\\mu)^T u_i \\frac{1}{\\lambda_i}u_i^T (x-\\mu)\n",
    "\\end{aligned}\n",
    "$$\n",
    "Let's set $y_i=(x-\\mu)^T u_i$\n",
    "\n",
    "Here, $y_i $ represents the coordinate value of $x$ projected onto the new orthogonal basis $u_i$ after centralization.\n",
    "\n",
    "so:\n",
    "$$\n",
    "\\Delta=\\sum_{i=1}^p \\frac{y_i^2}{\\lambda_i}\n",
    "$$"
   ]
  },
  {
   "cell_type": "markdown",
   "id": "955dd95e",
   "metadata": {},
   "source": [
    "Next, let's look at the probability density function of multivariate Gaussian distribution:\n",
    "$$\n",
    "p(x)=\\frac{1}{(2\\pi)^{\\frac{p}{2}}|\\Sigma|^{\\frac{1}{2}}} \\exp[-\\frac{1}{2}(x-\\mu)^T \\Sigma^{-1}(x-\\mu)]\n",
    "$$\n",
    "You can see that only the exponential part of the formula is related to the variable $x $. The previous factor is to make the probability sum $1 $.\n",
    "\n",
    "Therefore, the probability of Gaussian distribution is directly related to the value of $\\ delta $.\n",
    "\n",
    "We assume $p=2$, then:\n",
    "$$\n",
    "\\frac{y_1^2}{\\lambda_1}+\\frac{y_2^2}{\\lambda_2}=\\Delta\n",
    "$$\n",
    "We were surprised to find that this is very similar to the elliptic equation. The value of $\\Delta$ is not fixed, so for different $x$, these sample points form concentric ellipses in the plane. This is one of the properties of Gaussian distribution."
   ]
  }
 ],
 "metadata": {
  "kernelspec": {
   "display_name": "Python 3",
   "language": "python",
   "name": "python3"
  },
  "language_info": {
   "codemirror_mode": {
    "name": "ipython",
    "version": 3
   },
   "file_extension": ".py",
   "mimetype": "text/x-python",
   "name": "python",
   "nbconvert_exporter": "python",
   "pygments_lexer": "ipython3",
   "version": "3.8.8"
  }
 },
 "nbformat": 4,
 "nbformat_minor": 5
}
