{
 "cells": [
  {
   "cell_type": "markdown",
   "id": "bdcdc6eb",
   "metadata": {},
   "source": [
    "## Abstract\n",
    "在上期，我们学习了 $PCA$ 公式的推导过程，但该公式在实际使用中较为麻烦。需要先求出协方差矩阵，再对其进行奇异值分解。因此更常用的方法是直接对中心化的数据集进行奇异值分解。\n",
    "\n",
    "此外，使用主成分分析，我们最终得到的是新的坐标基，要对数据集进行降维，还需要再进行坐标的投影。因此本期将介绍一种相似但更为简便的方法:主坐标分析 ($PCoA$)"
   ]
  },
  {
   "cell_type": "markdown",
   "id": "7592af7a",
   "metadata": {},
   "source": [
    "## Algorithm"
   ]
  },
  {
   "cell_type": "markdown",
   "id": "51fc62de",
   "metadata": {},
   "source": [
    "### A.SVD && PCA\n",
    "在上一期中，我们推导出了协方差矩阵的简化形式：\n",
    "$$\n",
    "S=\\frac{1}{N} X^T H X\n",
    "$$\n",
    "同时，我们也顺带推导出中心矩阵 $H^2以及H^T$ 都是其本身 $H$。\n",
    "\n",
    "因此得到：\n",
    "$$\n",
    "S=\\frac{1}{N} X^T H^T H X\n",
    "$$\n",
    "又因为我们可以对任何矩阵进行奇异值分解，因此我们有：\n",
    "$$\n",
    "HX = U \\Sigma V^T\n",
    "$$\n",
    "因此，代入协方差矩阵中：\n",
    "$$\n",
    "S = V \\Sigma U^T U \\Sigma V^T\n",
    "$$\n",
    "我们知道：\n",
    "$$\n",
    "U^T U=I \\quad V^T V = V V^T= I\n",
    "$$\n",
    "$\\Sigma$ 为对角矩阵\n",
    "\n",
    "因此：\n",
    "$$\n",
    "S=V\\Sigma ^2 V^T\n",
    "$$"
   ]
  },
  {
   "cell_type": "markdown",
   "id": "d379971c",
   "metadata": {},
   "source": [
    "写到这里，我们发现，只需对中心化的数据集进行奇异值分解，我们就可以得到协方差矩阵的特征值 $\\Sigma$ 和特征向量 $V$。\n",
    "\n",
    "我们计算 $HXV$ 即可得到投影后的坐标。"
   ]
  },
  {
   "cell_type": "markdown",
   "id": "63935a0a",
   "metadata": {},
   "source": [
    "### B.PCoA"
   ]
  },
  {
   "cell_type": "markdown",
   "id": "8820f88b",
   "metadata": {},
   "source": [
    "下面我们对 $S$ 的形式做一下颠倒，构造一个矩阵:\n",
    "$$\n",
    "T=HXX^TH^T\n",
    "$$\n",
    "与上述过程相似，我们得到:\n",
    "$$\n",
    "\\begin{aligned}\n",
    "T&=HXX^TH^T\\\\\n",
    "&=U\\Sigma V^T V\\Sigma U^T\\\\\n",
    "&=U\\Sigma^2 U^T\n",
    "\\end{aligned}\n",
    "$$\n",
    "我们将投影后的坐标稍加推导：\n",
    "$$\n",
    "HXV=U\\Sigma V^TV=U\\Sigma\n",
    "$$\n",
    "因此主坐标分析可以直接求出投影坐标"
   ]
  }
 ],
 "metadata": {
  "kernelspec": {
   "display_name": "Python 3",
   "language": "python",
   "name": "python3"
  },
  "language_info": {
   "codemirror_mode": {
    "name": "ipython",
    "version": 3
   },
   "file_extension": ".py",
   "mimetype": "text/x-python",
   "name": "python",
   "nbconvert_exporter": "python",
   "pygments_lexer": "ipython3",
   "version": "3.8.8"
  }
 },
 "nbformat": 4,
 "nbformat_minor": 5
}
