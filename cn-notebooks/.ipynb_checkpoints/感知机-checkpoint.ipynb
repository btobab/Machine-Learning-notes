{
 "cells": [
  {
   "cell_type": "markdown",
   "metadata": {},
   "source": [
    "### Abstract\n",
    "众所周知，线性分类分为两种：\n",
    "* 硬输出（直接输出样本的类别）：\n",
    "    * 感知机\n",
    "    * 线性判别分析\n",
    "* 软输出（输出样本属于某类别的概率）：\n",
    "    * 高斯判别分析\n",
    "    * 逻辑回归\n",
    "    \n",
    "本期将介绍一种简单的线性二分类模型:感知机（Perceptron），它的要求比较松，只要能找到一个超平面将正负样本分割开就行。"
   ]
  },
  {
   "cell_type": "markdown",
   "metadata": {},
   "source": [
    "### Idea\n",
    "**错误驱动**\n",
    "\n",
    "从字面上我们就可以看出，感知机模型的思路就是先随机初始化模型的参数，然后根据当前参数是否能够正确分割正负样本，通过错误来更新自己的参数。"
   ]
  },
  {
   "cell_type": "markdown",
   "metadata": {},
   "source": [
    "### Algorithm\n",
    "首先给出模型的目标函数：\n",
    "$$\n",
    "f(x)=sign(w^Tx)\n",
    "$$\n",
    "其中,$sign$是一个符号函数：\n",
    "$$\n",
    "sign(a)=\n",
    "\\begin{cases}\n",
    "+1,\\,\\,a>0\\\\\n",
    "-1,\\,\\,a\\le0\\\\\n",
    "\\end{cases}\n",
    "$$\n",
    "那么根据上面提到的感知机的思想：错误驱动\n",
    "\n",
    "我们很容易写出该模型的损失函数：\n",
    "$$\n",
    "\\mathcal{L}(w)=\\sum_{i=1}^n I\\{w^Tx_i * y_i<0 \\}\n",
    "$$\n",
    "其中，$I$是指示函数，表示有哪些元素属于该集合。\n",
    "\n",
    "而判断条件也很好理解。我们注意到：\n",
    "* 当$y_i>0$，即$y_i$为正例；\n",
    "\t* 此时，若$w^Tx_i<0$，则说明该样本被错误分类（$w^Tx_i* y_i<0$）\n",
    "    * 若$w^Tx_i>0$，则说明该样本被正确分类（$w^Tx_i* y_i>0$）\n",
    "* 当$y_i<0$，即$y_i$为负例；\n",
    "\t* 此时，若$w^Tx_i<0$，则说明该样本被正确分类（$w^Tx_i* y_i>0$）\n",
    "    * 若$w^Tx_i>0$，则说明该样本被错误分类（$w^Tx_i* y_i<0$）\n",
    "    \n",
    "我们最终发现，当$w^Tx_i * y_i<0$时，可以表示样本被模型错误分类。"
   ]
  },
  {
   "cell_type": "markdown",
   "metadata": {},
   "source": [
    "好，我们现在再回头看损失函数，我们惊奇地发现，这个损失函数居然是不可导的，没法梯度下降了，这可肿么办尼。\n",
    "\n",
    "因此我们放宽了条件，损失函数更为：\n",
    "$$\n",
    "\\mathcal{L(w)}=\\mathcal{\\sum_{(x_i,y_i)\\in M}} -\\mathcal{w^Tx_i* y_i}\n",
    "$$\n",
    "$M$表示被错误分类的样本的集合。\n",
    "\n",
    "在$w^Tx_i* y_i$前面加个负号，就可以得到正的损失值了。这样就可以使用梯度下降算法更新参数$w$了。\n",
    "\n",
    "至于这个损失函数的导数也很容易求嘛：\n",
    "\n",
    "$$\n",
    "\\mathcal{\\frac{dL(w)}{dw}}=\\mathcal{\\sum_{(x_i,y_i)\\in M}} -\\mathcal{x_i* y_i}\n",
    "$$"
   ]
  },
  {
   "cell_type": "markdown",
   "metadata": {},
   "source": [
    "### Implement"
   ]
  },
  {
   "cell_type": "code",
   "execution_count": 2,
   "metadata": {},
   "outputs": [
    {
     "data": {
      "image/png": "[encoded data removed]",
      "text/plain": [
       "<Figure size 432x288 with 1 Axes>"
      ]
     },
     "metadata": {
      "needs_background": "light"
     },
     "output_type": "display_data"
    }
   ],
   "source": [
    "import os\n",
    "os.chdir(\"../\")\n",
    "import numpy as np\n",
    "from models.linear_models import Perceptron\n",
    "\n",
    "\n",
    "model = Perceptron(10000, lr=1e-2)\n",
    "x = np.linspace(0, 100, num=100)\n",
    "w1, b1 = 0.1, 5\n",
    "w2, b2 = 0.2, 10\n",
    "epsilon = 2\n",
    "k = 0.15\n",
    "b = 8\n",
    "w = np.asarray([-k, 1])\n",
    "v1 = x * w1 + b1 + np.random.normal(scale=epsilon, size=x.shape)\n",
    "v2 = x * w2 + b2 + np.random.normal(scale=epsilon, size=x.shape)\n",
    "x1 = np.c_[x, v1]\n",
    "x2 = np.c_[x, v2]\n",
    "x = np.r_[x1, x2]\n",
    "y = np.sign(x.dot(w) - b)\n",
    "model.fit(x, y)\n",
    "model.draw(x)"
   ]
  },
  {
   "cell_type": "markdown",
   "metadata": {},
   "source": [
    "### 关于作者\n",
    "[我在AI Studio上获得钻石等级，点亮8个徽章，来互关呀~ ](https://aistudio.baidu.com/aistudio/personalcenter/thirdview/345331)"
   ]
  }
 ],
 "metadata": {
  "kernelspec": {
   "display_name": "Python 3",
   "language": "python",
   "name": "python3"
  },
  "language_info": {
   "codemirror_mode": {
    "name": "ipython",
    "version": 3
   },
   "file_extension": ".py",
   "mimetype": "text/x-python",
   "name": "python",
   "nbconvert_exporter": "python",
   "pygments_lexer": "ipython3",
   "version": "3.8.8"
  },
  "latex_envs": {
   "LaTeX_envs_menu_present": true,
   "autoclose": false,
   "autocomplete": true,
   "bibliofile": "biblio.bib",
   "cite_by": "apalike",
   "current_citInitial": 1,
   "eqLabelWithNumbers": true,
   "eqNumInitial": 1,
   "hotkeys": {
    "equation": "Ctrl-E",
    "itemize": "Ctrl-I"
   },
   "labels_anchors": false,
   "latex_user_defs": false,
   "report_style_numbering": false,
   "user_envs_cfg": false
  }
 },
 "nbformat": 4,
 "nbformat_minor": 1
}
