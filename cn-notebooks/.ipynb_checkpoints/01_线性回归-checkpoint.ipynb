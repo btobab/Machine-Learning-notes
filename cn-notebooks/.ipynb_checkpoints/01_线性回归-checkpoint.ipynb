{
 "cells": [
  {
   "cell_type": "markdown",
   "metadata": {},
   "source": [
    "## Abstract（摘要）\n",
    "幂娜桑，空你吉哇，我是生而为弟。\n",
    "\n",
    "在学习NLP的过程中，我对于公式的推导~~不是很擅长~~完全不会，因此我决定从头学习机器学习的理论推导。\n",
    "\n",
    "本期主要分为两个部分：\n",
    "* 第一部分将从矩阵，几何，概率三个视角，对线性回归-最小二乘法的闭式解进行推导，并提供参考代码。\n",
    "* 第二部分将从矩阵和概率两个视角，对带正则化的最小二乘法的闭式解进行推导，并构造一个完整的线性回归类，同时实现闭式解求法与梯度下降解法。"
   ]
  },
  {
   "cell_type": "markdown",
   "metadata": {},
   "source": [
    "## Introduction（介绍）\n",
    "线性回归模型是利用线性函数对一个或多个自变量和因变量（$y$）之间关系进行拟合的模型。\n",
    "\n",
    "目标变量（$y$）为连续数值型 ，如：房价，人数，降雨量 回归模型是寻找一个输入变量到输出变量之间的映射函数。\n",
    "\n",
    "回归问题的学习等价于函数拟合：使用一条函数曲线使其很好的拟合已知数据且能够预测未知数据。\n",
    "\n",
    "回归问题分为模型的学习和预测两个过程。基于给定的训练数据集构建一个模型，根据新的输入数据预测相应的输出。"
   ]
  },
  {
   "cell_type": "markdown",
   "metadata": {},
   "source": [
    "## 1.Algorithm（算法）\n",
    "**不带正则化**"
   ]
  },
  {
   "cell_type": "markdown",
   "metadata": {},
   "source": [
    "### A.矩阵视角\n",
    "**注：一般情况下，我们讨论的向量都是列向量，因此推导过程中为保证矩阵的形状，会大量使用转置符**\n",
    "\n",
    "已知数据集$D=\\{(x_1,y_1),(x_2,y_2)...(x_n,y_n)\\}$\n",
    "\n",
    "其中$x_i\\in R^p，y_i\\in R，i=1,2,...,n$\n",
    "\n",
    "$$\n",
    "X=(x_1,x_2,...,x_n)^T=\\begin{pmatrix}\n",
    "x_{11}&x_{12}&...&X_{1p}\\\\\n",
    "x_{21}&x_{22}&...&x_{2p}\\\\\n",
    ".&.&.&.&\\\\\n",
    ".&.&.&.&\\\\\n",
    ".&.&.&.&\\\\\n",
    "x_{n1}&x_{n2}&...&x_{np}\\\\\n",
    "\\end{pmatrix}_{n*p}\n",
    "$$\n",
    "$$\n",
    "Y=(y1,y2,...,y_n)_{n*1}^T\n",
    "$$\n",
    "这是我们建立的模型：$f(w)=w^T*x+w_0*x_0。$\n",
    "\n",
    "一般令$x_0=1$,而$b=w_0*x_0$，$b$是偏置(bias)，$w$为权重weight，下面为了推导的方便，我们将$w_0$并入$w$中，$x_0$并入$X$中\n",
    "\n",
    "因此模型更为$f(w)=w^T*x$"
   ]
  },
  {
   "cell_type": "markdown",
   "metadata": {},
   "source": [
    "最小二乘法的损失函数为:\n",
    "$$\n",
    "L(w)=\\sum_{i=1}^{i=n}\\|y_i-w^T* x_i\\|_2^2\n",
    "$$\n",
    "$$\n",
    "=\\begin{pmatrix}\n",
    "y_1-w^T*x_1&y_2-w^T*x_2&...&y_n-w^T*x_n\n",
    "\\end{pmatrix}\n",
    "\\begin{pmatrix}\n",
    "y_1-w^T*x_1\\\\\n",
    "y_2-w^T*x_2\\\\\n",
    ".\\\\\n",
    ".\\\\\n",
    ".\\\\\n",
    "y_n-w^T*x_n\\\\\n",
    "\\end{pmatrix}\n",
    "$$\n",
    "$$\n",
    "=(Y^T-w^T*X^T)(Y^T-w^T*X^T)^T\n",
    "$$\n",
    "$$\n",
    "=(Y^T-w^T*X^T)(Y-X*w)\n",
    "$$\n",
    "$$\n",
    "=Y^T*Y-w^T*X^T*Y-Y^T*X*w+w^T*X^T*X*w\n",
    "$$\n",
    "仔细观察发现第二三项是互相转置的，而观察它的矩阵形状: $(1,p)*(p,n)*(n,1)=(1,1)$\n",
    "\n",
    "得知这两项为标量，而标量的转置还是本身，因此可将两项合并，得\n",
    "$$\n",
    "L(w)=Y^T*Y-2*w^T*X^T*Y+w^T*X^T*X*w\n",
    "$$\n",
    "因此$\\widehat{w}=argmin(L(w))$"
   ]
  },
  {
   "cell_type": "markdown",
   "metadata": {},
   "source": [
    "下面要求出$L(w)$的最小值，对$L(w)$求导\n",
    "\n",
    "可以看到式子共三项，第一项与$w$无关，可以去掉。那么剩余两项就要涉及到矩阵求导了\n",
    "\n",
    "关于矩阵求导，笔者推荐一位博主的三篇文章(比教科书还详细，严谨，每个公式都有证明)\n",
    "> [矩阵求导的本质与分子布局、分母布局的本质（矩阵求导——本质篇） - Iterator的文章 - 知乎](https://zhuanlan.zhihu.com/p/263777564)\n",
    "\n",
    "> [矩阵求导公式的数学推导（矩阵求导——基础篇） - Iterator的文章 - 知乎](https://zhuanlan.zhihu.com/p/273729929)\n",
    "\n",
    "> [矩阵求导公式的数学推导（矩阵求导——进阶篇） - Iterator的文章 - 知乎](https://zhuanlan.zhihu.com/p/288541909)"
   ]
  },
  {
   "cell_type": "markdown",
   "metadata": {},
   "source": [
    "下面为上述两项的导数求解过程：\n",
    "\n",
    "因为$X,Y$为常数矩阵，因此可直接求出导数，但因为是对$w$求导，因此要对结果进行转置\n",
    "$$\n",
    "\\frac{d(2*w^T*X^T*Y)}{dw}=2*X^T*Y\n",
    "$$\n",
    "下面求解第三项\n",
    "$$\n",
    "d(w^T*X^T*X*w)=tr(d(w^T*X^T*X*w))=tr(X^T*X*d(w^T*w))\n",
    "$$\n",
    "$$\n",
    "=tr(X^T*X*(d(w^T)*w+w^T*d(w)))=tr(X^T*X*w*(dw)^T)+tr(X^T*X*w^T*dw)\n",
    "$$\n",
    "$$\n",
    "=tr(w^T*X^T*X*dw)+tr(X^T*X*w^T*dw)=tr(2*X^T*X*w^T*dw)\n",
    "$$\n",
    "所以\n",
    "$$\n",
    "\\frac{d(w^T*X^T*X*w)}{dw}=2*w*X^T*X\n",
    "$$"
   ]
  },
  {
   "cell_type": "markdown",
   "metadata": {},
   "source": [
    "所以$\\frac{dL(w)}{dw}=2*X^T*X*w-2*X^T*Y$\n",
    "\n",
    "令导数等于0，得出最小二乘的闭式解：\n",
    "$$\n",
    "\\widehat{w}=(X^T*X)^{-1}*X^T*Y\n",
    "$$"
   ]
  },
  {
   "cell_type": "markdown",
   "metadata": {},
   "source": [
    "### B.几何视角\n",
    "$$\n",
    "X=(x_1,x_2,...,x_n)^T=\\begin{pmatrix}\n",
    "x_{11}&x_{12}&...&X_{1p}\\\\\n",
    "x_{21}&x_{22}&...&x_{2p}\\\\\n",
    ".&.&.&.&\\\\\n",
    ".&.&.&.&\\\\\n",
    ".&.&.&.&\\\\\n",
    "x_{n1}&x_{n2}&...&x_{np}\\\\\n",
    "\\end{pmatrix}_{n*p}\n",
    "$$\n",
    "$$\n",
    "Y=(y1,y2,...,y_n)_{n*1}^T\n",
    "$$"
   ]
  },
  {
   "cell_type": "markdown",
   "metadata": {},
   "source": [
    "在几何视角下，我们将$X$看作是一个$p$维的向量\n",
    "\n",
    "$X$的第一维是$(x_{11},x_{21},...,x_{n1})$，$X$的第$p$维是$(x_{1p},x_{2p},...,x_{np})$\n",
    "\n",
    "而这里的$Y$被看作是一个一维的向量"
   ]
  },
  {
   "cell_type": "markdown",
   "metadata": {},
   "source": [
    "现在我们假设$p=2$，因为比较好画。示意图如下（俺真的画了好久，观众老爷们给波三连吧～～）\n",
    "![](https://ai-studio-static-online.cdn.bcebos.com/ebe104f810e04c8991d17f69a1848f52937b0180d428477f9e8cbddbc57cf39a)\n"
   ]
  },
  {
   "cell_type": "markdown",
   "metadata": {},
   "source": [
    "将模型改为$f(w)=Xw$，意为对$X$向量施以$w$权重的放缩\n",
    "\n",
    "而最小二乘的几何意义就是找到一个$w$，使得$Y-Xw$这个向量到$X$空间的距离最小，那最小的情况当然就是与$X$空间垂直\n",
    "\n",
    "所以我们有式子$X^T*(Y-Xw)=0$\n",
    "\n",
    "从而求解$w$：\n",
    "$$\n",
    "X^T*X*w=X^T*Y\n",
    "$$\n",
    "$$\n",
    "\\widehat{w}=(X^T*X)^{-1}*X^T*Y\n",
    "$$\n",
    "可以看到求出的$w$与矩阵视角的结果相同。"
   ]
  },
  {
   "cell_type": "markdown",
   "metadata": {},
   "source": [
    "### C.概率视角\n",
    "首先明确，现实中是很难用一条直线去拟合分布的。真实的数据必然存在一定的随机性，也就是噪声。\n",
    "\n",
    "因此我们假设噪声$\\epsilon\\backsim N(0,\\sigma^2)$\n",
    "\n",
    "所以$y=f(w)+\\epsilon=w^T*x+\\epsilon$\n",
    "\n",
    "所以$y|x;w\\backsim N(w^T*x,\\sigma^2)$\n",
    "\n",
    "带入高斯分布的概率密度函数：\n",
    "$$\n",
    "p(y|x;w)=\\frac{1}{\\sqrt{2\\pi}*\\sigma}*e^{-\\frac{(y-w^T*x)^2}{2\\sigma^2}}\n",
    "$$"
   ]
  },
  {
   "cell_type": "markdown",
   "metadata": {},
   "source": [
    "下面使用$MLE$(极大似然估计)：\n",
    "\n",
    "**注：所谓极大似然估计，即通过大量的采样得到相对频率，去逼近概率**\n",
    "\n",
    "我们设一个函数$\\zeta(w)=\\log{p(Y|X;w)}$\n",
    "\n",
    "因为$n$个数据之间是独立的，因此可以将概率改为连乘的形式。\n",
    "\n",
    "$\\zeta(w)=\\log{\\Pi_{i=1}^np(y_i|x_i;w)}=\\Sigma_{i=1}^n \\log{p(y_i|x_i;w)}$\n",
    "\n",
    "将高斯分布的概率密度函数带入式子：\n",
    "\n",
    "$\\zeta(w)=\\Sigma_{i=1}^n(\\log{\\frac{1}{\\sqrt{2\\pi}*\\sigma}}-\\frac{(y-w^T*x)^2}{2\\sigma^2})$\n",
    "\n",
    "因为前一项与$w$无关，所以可以忽略\n",
    "\n",
    "所以:\n",
    "$$\n",
    "\\widehat{w}=argmax \\zeta(w)\n",
    "$$\n",
    "$$\n",
    "=argmax \\Sigma_{i=1}^n -\\frac{(y-w^T*x)^2}{2\\sigma^2}\n",
    "$$\n",
    "$$\n",
    "=argmin \\Sigma_{i=1}^n (y-w^T*x)^2\n",
    "$$\n",
    "而使用极大似然估计得到的结论正是最小二乘法的定义。\n",
    "\n",
    "这也恰好说明，最小二乘法隐藏着一个噪声为高斯分布的假设。"
   ]
  },
  {
   "cell_type": "markdown",
   "metadata": {},
   "source": [
    "### Implement（实作）"
   ]
  },
  {
   "cell_type": "code",
   "execution_count": 1,
   "metadata": {},
   "outputs": [
    {
     "name": "stdout",
     "output_type": "stream",
     "text": [
      "[[5.1992704]]\n"
     ]
    },
    {
     "data": {
      "image/png": "[encoded data removed]",
      "text/plain": [
       "<Figure size 432x288 with 1 Axes>"
      ]
     },
     "metadata": {
      "needs_background": "light"
     },
     "output_type": "display_data"
    }
   ],
   "source": [
    "%matplotlib inline\n",
    "import numpy as np\n",
    "import matplotlib.pyplot as plt\n",
    "\n",
    "# 样本数\n",
    "n = 1000\n",
    "# 噪声\n",
    "epsilon = 1\n",
    "X = np.expand_dims(np.linspace(0,100,1000), axis=-1)\n",
    "w = np.asarray([5.2])\n",
    "Y = X * w\n",
    "# 增加噪声扰动\n",
    "X += np.random.normal(scale=epsilon, size=(X.shape))\n",
    "X_T = X.transpose()\n",
    "w_hat = np.matmul(np.linalg.pinv((np.matmul(X_T, X))), np.matmul(X_T, Y))\n",
    "print(w_hat)\n",
    "plt.scatter(X, Y, s=3, c=\"y\")\n",
    "Y_hat = X * w_hat\n",
    "plt.plot(X, Y_hat)\n",
    "plt.show()"
   ]
  },
  {
   "cell_type": "markdown",
   "metadata": {},
   "source": [
    "## 2.Algorithm（算法）\n",
    "**带正则化**"
   ]
  },
  {
   "cell_type": "markdown",
   "metadata": {},
   "source": [
    "### A.矩阵视角"
   ]
  },
  {
   "cell_type": "markdown",
   "metadata": {},
   "source": [
    "首先给出带正则项的新损失函数：\n",
    "$$\n",
    "\\zeta(w)=\\Sigma_{i=1}^{n}||y_i-w^T * x_i||^2 + \\lambda * ||w||^2\n",
    "$$\n",
    "然后引用不带正则化的矩阵视角的损失函数的推导形式：\n",
    "$$\n",
    "\\zeta(w)=Y^T*Y-2*w^T*X^T*Y+w^T*X^T*X* w+\\lambda * ||w||^2\n",
    "$$\n",
    "所以$\\widehat{w}=argmax(\\zeta(w))$\n",
    "\n",
    "对$\\zeta(w)$求导，得到：\n",
    "$$\n",
    "\\frac{\\partial \\zeta(w)}{\\partial w}=2*X^T*X*w-2*X^T* Y+2\\lambda * w \n",
    "$$\n",
    "令导数为0，得到带正则化的最小二乘法的闭式解：\n",
    "$$\n",
    "\\widehat{w}=(X^T*X+\\lambda * I)^{-1} *X^T*Y\n",
    "$$\n",
    "$I$为单位矩阵"
   ]
  },
  {
   "cell_type": "markdown",
   "metadata": {},
   "source": [
    "### B.概率视角"
   ]
  },
  {
   "cell_type": "markdown",
   "metadata": {},
   "source": [
    "假设噪声$\\epsilon \\backsim N(0,\\sigma_1^2)$\n",
    "\n",
    "$w \\backsim N(0,\\sigma_2^2)$\n",
    "\n",
    "因为$y=w^T* x + \\epsilon$\n",
    "\n",
    "所以$y|w \\backsim N(w^T* x,\\sigma_1^2)$"
   ]
  },
  {
   "cell_type": "markdown",
   "metadata": {},
   "source": [
    "下面我们使用$MAP$（最大后验估计）:\n",
    "由贝叶斯定理得：\n",
    "$$\n",
    "P(w|Y)=\\frac{P(Y|w)* P(w)}{P(Y)}\n",
    "$$\n",
    "其中$P(w)$为先验概率，$P(Y|w)$为似然概率，$P(Y)$为归一化概率，先验概率乘似然概率并归一化得到后验概率$P(w|Y)$"
   ]
  },
  {
   "cell_type": "markdown",
   "metadata": {},
   "source": [
    "其中$P(Y)$实际上为常数，因此：\n",
    "$$\n",
    "\\widehat{w}=argmax(P(w|Y))=argmax(P(Y|w)* P(w))=argmax(log(P(Y|w)* P(w)))\n",
    "$$\n",
    "因为每个样本间是独立的，因此可以将概率连乘\n",
    "$$\n",
    "=argmax(log(\\prod_{i=1}^n P(y_i|w)* P(w)))=argmax(\\sum_{i=1}^n log(P(y_i|w)+ log(P(w))))\n",
    "$$\n",
    "带入高斯分布的概率密度函数，得到:\n",
    "$$\n",
    "\\widehat{w}=argmax(\\sum_{i=1}^nlog(\\frac{1}{\\sqrt{2\\pi}* \\sigma_1})-\\frac{(y_i-w^T* x_i)^2}{2\\sigma_1^2}+log(\\frac{1}{\\sqrt{2 \\pi}* \\sigma_2})-\\frac{w^2}{2\\sigma_2^2})\n",
    "$$"
   ]
  },
  {
   "cell_type": "markdown",
   "metadata": {},
   "source": [
    "因为$\\sigma_1,\\sigma_2$都为超参数，因此可以省略\n",
    "\n",
    "所以：\n",
    "$$\n",
    "\\widehat{w}=argmin(\\sum_{i=1}^n \\frac{(y_i-w^T* x_i)^2}{2\\sigma_1^2}+\\frac{w^2}{2\\sigma_2^2})\n",
    "$$\n",
    "$$\n",
    "=argmin(\\sum_{i=1}^n (y_i-w^T* x_i)^2+\\frac{\\sigma_1^2}{\\sigma_2^2}* w^2)\n",
    "$$\n",
    "可以看到，使用$MAP$推导出的结果正是带正则项的最小二乘的定义"
   ]
  },
  {
   "cell_type": "markdown",
   "metadata": {},
   "source": [
    "### Implement（实现）\n",
    "**带正则项**"
   ]
  },
  {
   "cell_type": "code",
   "execution_count": 2,
   "metadata": {},
   "outputs": [],
   "source": [
    "import os\n",
    "os.chdir(\"../\")\n",
    "import numpy as np\n",
    "import matplotlib.pyplot as plt\n",
    "from models.linear_models import LinearRegression"
   ]
  },
  {
   "cell_type": "code",
   "execution_count": 3,
   "metadata": {},
   "outputs": [
    {
     "name": "stdout",
     "output_type": "stream",
     "text": [
      "([[5.213677612426203]], [0.9234839073187315])\n"
     ]
    },
    {
     "data": {
      "image/png": "[encoded data removed]",
      "text/plain": [
       "<Figure size 432x288 with 1 Axes>"
      ]
     },
     "metadata": {
      "needs_background": "light"
     },
     "output_type": "display_data"
    }
   ],
   "source": [
    "X_ = np.expand_dims(np.linspace(0, 10, 1000), axis=-1)\n",
    "X = np.c_[X_, np.ones(1000)]\n",
    "w = np.asarray([5.2, 1])\n",
    "Y = X.dot(w)\n",
    "X = np.r_[X, np.asarray([[11, 1], [12, 1], [13, 1]])]\n",
    "Y = np.r_[Y, np.asarray([100, 110, 120])]\n",
    "\n",
    "model = LinearRegression(l2_ratio=1e1, epoch_num=1000, lr=1e-2, batch_size=100, if_standard=False)\n",
    "model.fit(X[:, :-1], Y)\n",
    "print(model.get_params())\n",
    "model.draw(X[:, :-1], Y)"
   ]
  },
  {
   "cell_type": "markdown",
   "metadata": {},
   "source": [
    "## Conclusion（总结）\n",
    "本期我们学习了：\n",
    "1. 什么是线性回归\n",
    "2. 不带正则项的线性回归的矩阵，几何，概率视角的公式推导\n",
    "3. 通过代码实现不带正则项的最小二乘\n",
    "4. 带正则项的线性回归的矩阵，概率视角的公式推导\n",
    "5. 代码实现完整的线性回归类"
   ]
  },
  {
   "cell_type": "markdown",
   "metadata": {},
   "source": [
    "## Reference（参考文献）\n",
    "> [机器学习白板推导视频](https://www.bilibili.com/video/BV1aE411o7qd?p=10)\n",
    "\n",
    "> [矩阵求导的本质与分子布局、分母布局的本质（矩阵求导——本质篇） - Iterator的文章 - 知乎](https://zhuanlan.zhihu.com/p/263777564)\n",
    "\n",
    "> [矩阵求导公式的数学推导（矩阵求导——基础篇） - Iterator的文章 - 知乎](https://zhuanlan.zhihu.com/p/273729929)\n",
    "\n",
    "> [矩阵求导公式的数学推导（矩阵求导——进阶篇） - Iterator的文章 - 知乎](https://zhuanlan.zhihu.com/p/288541909)"
   ]
  }
 ],
 "metadata": {
  "kernelspec": {
   "display_name": "Python 3",
   "language": "python",
   "name": "python3"
  },
  "language_info": {
   "codemirror_mode": {
    "name": "ipython",
    "version": 3
   },
   "file_extension": ".py",
   "mimetype": "text/x-python",
   "name": "python",
   "nbconvert_exporter": "python",
   "pygments_lexer": "ipython3",
   "version": "3.8.8"
  },
  "latex_envs": {
   "LaTeX_envs_menu_present": true,
   "autoclose": false,
   "autocomplete": true,
   "bibliofile": "biblio.bib",
   "cite_by": "apalike",
   "current_citInitial": 1,
   "eqLabelWithNumbers": true,
   "eqNumInitial": 1,
   "hotkeys": {
    "equation": "Ctrl-E",
    "itemize": "Ctrl-I"
   },
   "labels_anchors": false,
   "latex_user_defs": false,
   "report_style_numbering": false,
   "user_envs_cfg": false
  }
 },
 "nbformat": 4,
 "nbformat_minor": 1
}
