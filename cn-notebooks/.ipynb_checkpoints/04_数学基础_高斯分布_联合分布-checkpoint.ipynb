{
 "cells": [
  {
   "cell_type": "markdown",
   "id": "d4dab7c4",
   "metadata": {},
   "source": [
    "## Abstract"
   ]
  },
  {
   "cell_type": "markdown",
   "id": "2ee53d43",
   "metadata": {},
   "source": [
    "本节我们学习高斯联合分布。"
   ]
  },
  {
   "cell_type": "markdown",
   "id": "8a49d373",
   "metadata": {},
   "source": [
    "## Given"
   ]
  },
  {
   "cell_type": "markdown",
   "id": "c9f3618f",
   "metadata": {},
   "source": [
    "$$\n",
    "x \\sim N(x|\\mu, \\Lambda^{-1})\n",
    "$$\n",
    "$$\n",
    "y|x \\sim N(y|Ax+b, L^{-1})\n",
    "$$"
   ]
  },
  {
   "cell_type": "markdown",
   "id": "6ecece4b",
   "metadata": {},
   "source": [
    "## Inference"
   ]
  },
  {
   "cell_type": "markdown",
   "id": "0e5d6880",
   "metadata": {},
   "source": [
    "$$\n",
    "y = Ax+b+\\epsilon, \\quad \\epsilon \\sim N(0, L^{-1}), \\quad x \\perp \\epsilon\n",
    "$$"
   ]
  },
  {
   "cell_type": "markdown",
   "id": "a5fac98d",
   "metadata": {},
   "source": [
    "## To solve"
   ]
  },
  {
   "cell_type": "markdown",
   "id": "96347e7f",
   "metadata": {},
   "source": [
    "$$\n",
    "\\begin{cases}\n",
    "p(y)\\\\\n",
    "\\\\\n",
    "p(x|y)\n",
    "\\end{cases}\n",
    "$$"
   ]
  },
  {
   "cell_type": "markdown",
   "id": "98b4d015",
   "metadata": {},
   "source": [
    "## Derive"
   ]
  },
  {
   "cell_type": "markdown",
   "id": "7d39c780",
   "metadata": {},
   "source": [
    "### Derive p(y)"
   ]
  },
  {
   "cell_type": "markdown",
   "id": "e45df609",
   "metadata": {},
   "source": [
    "$$\n",
    "E[y] = A E[x] + b + E[\\epsilon]=A \\mu + b\n",
    "$$"
   ]
  },
  {
   "cell_type": "markdown",
   "id": "13ba4135",
   "metadata": {},
   "source": [
    "$$\n",
    "Var[y] = A \\Lambda^{-1} A^T\n",
    "$$\n",
    "$$\n",
    "\\therefore y \\sim N(A\\mu +b, A\\Lambda^{-1} A^T)\n",
    "$$"
   ]
  },
  {
   "cell_type": "markdown",
   "id": "c9054f8b",
   "metadata": {},
   "source": [
    "### Derive p(x|y)"
   ]
  },
  {
   "cell_type": "markdown",
   "id": "5d6c5191",
   "metadata": {},
   "source": [
    "#### construct dist z"
   ]
  },
  {
   "cell_type": "markdown",
   "id": "83086721",
   "metadata": {},
   "source": [
    "此处我们构造一个分布:\n",
    "$$\n",
    "z = \n",
    "\\left (\n",
    "\\begin{matrix}\n",
    "x\\\\\n",
    "y\\\\\n",
    "\\end{matrix}\n",
    "\\right )\n",
    "\\sim N(\n",
    "\\left [\n",
    "\\begin{matrix}\n",
    "\\mu\\\\\n",
    "A\\mu+b\\\\\n",
    "\\end{matrix}\n",
    "\\right ],\n",
    "\\left [\n",
    "\\begin{matrix}\n",
    "\\Lambda^{-1}&\\Delta\\\\\n",
    "\\Delta&A\\Lambda^{-1} A^T\\\\\n",
    "\\end{matrix}\n",
    "\\right ]\n",
    ")\n",
    "$$"
   ]
  },
  {
   "cell_type": "markdown",
   "id": "74f6b567",
   "metadata": {},
   "source": [
    "$$\n",
    "\\begin{aligned}\n",
    "\\Delta\n",
    "&=cov(x,y)\\\\\n",
    "&=E[(x-E[x])(y-E[y])^T]\\\\\n",
    "&=E[(x-\\mu)(y-A\\mu - b)^T]\\\\\n",
    "&=E[(x-\\mu)(Ax+b+ \\epsilon -A\\mu -b)^T)]\\\\\n",
    "&=E[(x-\\mu)(Ax-A\\mu + \\epsilon)^T]\\\\\n",
    "&=E[(x-\\mu)(x-\\mu)^T A^T + (x-\\mu)\\epsilon^T]\\\\\n",
    "&=E[(x-\\mu)(x-\\mu)^T]A^T + E[(x-\\mu)\\epsilon^T] \\\\\n",
    "\\because &x \\perp \\epsilon\\\\\n",
    "\\therefore &=E[(x-\\mu)(x-\\mu)^T]A^T\\\\\n",
    "&=\\Lambda^{-1}A^T\n",
    "\\end{aligned}\n",
    "$$"
   ]
  },
  {
   "cell_type": "markdown",
   "id": "c20ee780",
   "metadata": {},
   "source": [
    "$$\n",
    "\\therefore z=\n",
    "\\left ( \\begin{matrix}\n",
    "x\\\\y\n",
    "\\end{matrix} \\right )\n",
    "\\sim N(\n",
    "\\left [\n",
    "\\begin{matrix}\n",
    "\\mu\\\\\n",
    "A\\mu+b\\\\\n",
    "\\end{matrix}\n",
    "\\right ],\n",
    "\\left [\n",
    "\\begin{matrix}\n",
    "\\Lambda^{-1}&\\Lambda^{-1}A^T\\\\\n",
    "\\Lambda^{-1}A^T&A\\Lambda^{-1} A^T\\\\\n",
    "\\end{matrix}\n",
    "\\right ]\n",
    ")\n",
    "$$"
   ]
  },
  {
   "cell_type": "markdown",
   "id": "c0c52b6b",
   "metadata": {},
   "source": [
    "#### construct dist x.y"
   ]
  },
  {
   "cell_type": "markdown",
   "id": "5c3866d9",
   "metadata": {},
   "source": [
    "let's set \n",
    "$$\n",
    "\\begin{aligned}\n",
    "x.y \n",
    "&= x - \\Sigma_{xy} \\Sigma_{yy}^{-1}y\\\\\n",
    "&= x - (\\Lambda^{-1} A^T)(A \\Lambda^{-1}A^T)^{-1}y\\\\\n",
    "&= x - A^{-1}y\\\\\n",
    "&= \n",
    "\\left ( \\begin{matrix}\n",
    "I& -A^{-1}\n",
    "\\end{matrix} \\right )\n",
    "\\left ( \\begin{matrix}\n",
    "x\\\\\n",
    "y\n",
    "\\end{matrix} \\right )\n",
    "\\end{aligned}\n",
    "$$"
   ]
  },
  {
   "cell_type": "markdown",
   "id": "7a0d41b8",
   "metadata": {},
   "source": [
    "$$\n",
    "\\begin{aligned}\n",
    "E[x.y] \n",
    "&= E[x] - A^{-1} E[y]\\\\\n",
    "&= \\mu - A^{-1}(A\\mu+b)\\\\\n",
    "&= -A^{-1}b\n",
    "\\end{aligned}\n",
    "$$"
   ]
  },
  {
   "cell_type": "markdown",
   "id": "823d5185",
   "metadata": {},
   "source": [
    "$$\n",
    "\\begin{aligned}\n",
    "Var[x.y]\n",
    "&= \n",
    "\\left ( \\begin{matrix}\n",
    "I& -A^{-1}\n",
    "\\end{matrix} \\right )\n",
    "Var[z]\n",
    "\\left ( \\begin{matrix}\n",
    "I\\\\\n",
    "-(A^{-1})^T\\\\\n",
    "\\end{matrix} \\right )\\\\\n",
    "&= \n",
    "\\left ( \\begin{matrix}\n",
    "I& -A^{-1}\n",
    "\\end{matrix} \\right )\n",
    "\\left (\n",
    "\\begin{matrix}\n",
    "\\Lambda^{-1}&\\Lambda^{-1}A^T\\\\\n",
    "\\Lambda^{-1}A^T&A\\Lambda^{-1} A^T\\\\\n",
    "\\end{matrix}\n",
    "\\right )\n",
    "\\left ( \\begin{matrix}\n",
    "I\\\\\n",
    "-(A^{-1})^T\\\\\n",
    "\\end{matrix} \\right )\\\\\n",
    "&=\n",
    "\\left ( \\begin{matrix}\n",
    "\\Lambda^{-1}-A^{-1} \\Lambda^{-1}A^T & 0\n",
    "\\end{matrix} \\right )\n",
    "\\left ( \\begin{matrix}\n",
    "I\\\\\n",
    "-(A^{-1})^T\\\\\n",
    "\\end{matrix} \\right )\\\\\n",
    "&=\\Lambda^{-1}-A^{-1} \\Lambda^{-1}A^T\n",
    "\\end{aligned}\n",
    "$$"
   ]
  },
  {
   "cell_type": "markdown",
   "id": "f5163622",
   "metadata": {},
   "source": [
    "$$\n",
    "\\therefore x.y \\sim N(-A^{-1}b, \\Lambda^{-1}-A^{-1} \\Lambda^{-1}A^T)\n",
    "$$"
   ]
  },
  {
   "cell_type": "markdown",
   "id": "377c66c5",
   "metadata": {},
   "source": [
    "#### construct x|y"
   ]
  },
  {
   "cell_type": "markdown",
   "id": "6d9541b7",
   "metadata": {},
   "source": [
    "we got\n",
    "$$\n",
    "x|y = x.y + A^{-1}y\n",
    "$$\n",
    "here, we can see $A^{-1}y$ as constant $C$.\n",
    "\n",
    "then:\n",
    "$$\n",
    "x|y = x.y + C\n",
    "$$"
   ]
  },
  {
   "cell_type": "markdown",
   "id": "b2ff1c0f",
   "metadata": {},
   "source": [
    "$$\n",
    "E[x|y] = A^{-1}y - A^{-1}b\n",
    "$$\n",
    "$$\n",
    "Var[x|y]= Var[x.y]\n",
    "$$\n",
    "$$\n",
    "\\therefore x|y \\sim N(A^{-1}y - A^{-1}b, \\Lambda^{-1}-A^{-1} \\Lambda^{-1}A^T)\n",
    "$$"
   ]
  },
  {
   "cell_type": "markdown",
   "id": "bd627fb6",
   "metadata": {},
   "source": [
    "现在，我们根据一个边缘分布和条件分布，通过构造联合分布，求出了另一个边缘分布和条件分布。"
   ]
  }
 ],
 "metadata": {
  "kernelspec": {
   "display_name": "Python 3",
   "language": "python",
   "name": "python3"
  },
  "language_info": {
   "codemirror_mode": {
    "name": "ipython",
    "version": 3
   },
   "file_extension": ".py",
   "mimetype": "text/x-python",
   "name": "python",
   "nbconvert_exporter": "python",
   "pygments_lexer": "ipython3",
   "version": "3.8.8"
  }
 },
 "nbformat": 4,
 "nbformat_minor": 5
}
