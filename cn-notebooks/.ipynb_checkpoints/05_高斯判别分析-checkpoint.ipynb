{
 "cells": [
  {
   "cell_type": "markdown",
   "id": "1ba21f16",
   "metadata": {},
   "source": [
    "## Abstract\n",
    "本期我们学习线性回归-软输出-概率生成模型的一种算法：高斯判别分析($GDA$)。"
   ]
  },
  {
   "cell_type": "markdown",
   "id": "47c73a18",
   "metadata": {},
   "source": [
    "## Idea\n",
    "在前一期我们学习的逻辑回归算法属于概率判别模型，判别模型与生成模型的区别是：\n",
    "* 判别模型是直接对概率 $p(y|x)$ 进行建模，求出其真实的概率值\n",
    "* 生成模型是则是对 $p(y|x)$ 使用贝叶斯定理，转化为 $\\frac{p(x|y)p(y)}{p(x)}$，因为 $p(x)$ 与 $y$ 无关，因此可以忽略，最终得到：\n",
    "$$\n",
    "p(y|x)\\propto p(x|y)p(y)=p(x;y)\n",
    "$$\n",
    "因此我们关注的是 $(x,y)$ 这个联合分布，最后预测时只需比较 $p(y=0|x),p(y=1|x)$ 哪个大即可。"
   ]
  },
  {
   "cell_type": "markdown",
   "id": "324264ba",
   "metadata": {},
   "source": [
    "## Algorithm"
   ]
  },
  {
   "cell_type": "markdown",
   "id": "835c0cf6",
   "metadata": {},
   "source": [
    "首先，我们对模型做出一些假设：\n",
    "$$\n",
    "y\\in \\{0,1\\}\\  y\\sim Bernuolli(\\phi)\\quad p(y)=\\phi^y(1-\\phi)^{1-y}\\\\\n",
    "\\left \\{\n",
    "\\begin{aligned}\n",
    "x|y=1 \\  \\sim \\  N(\\mu_1,\\Sigma)\\\\\n",
    "x|y=0 \\  \\sim \\  N(\\mu_2,\\Sigma)\\\\\n",
    "\\end{aligned}\n",
    "\\right.\\Longrightarrow p(x|y)=N(\\mu_1,\\Sigma)^yN(\\mu_2,\\Sigma)^{1-y}\n",
    "$$\n",
    "因此模型的所有参数 $\\theta$ 为：\n",
    "$$\n",
    "\\theta=(\\phi, \\mu_1, \\mu_2, \\Sigma)\n",
    "$$"
   ]
  },
  {
   "cell_type": "markdown",
   "id": "143fa45d",
   "metadata": {},
   "source": [
    "现在给出模型的损失函数：\n",
    "$$\n",
    "\\begin{aligned}\n",
    "J(\\theta)=log(p(Y|X))&=log(\\prod_{i=1}^n p(y_i|x_i))\\\\\n",
    "&=\\sum_{i=1}^n log(p(y_i|x_i))\\\\\n",
    "\\end{aligned}\n",
    "$$\n",
    "因此：\n",
    "$$\n",
    "\\begin{aligned}\n",
    "\\hat{\\theta}=argmax(J(\\theta))&=argmax(\\sum_{i=1}^nlog(\\frac{p(x_i|y_i)p(y_i)}{p(x_i)}))\\\\\n",
    "&=argmax(\\sum_{i=1}^n log(p(x_i|y_i)p(y_i)))\\\\\n",
    "&=argmax(\\sum_{i=1}^n y_i\\ log(N(\\mu_1,\\Sigma))+(1-y_i)\\ log(N(\\mu_2,\\Sigma))+log(\\phi^{y_i} (1-\\phi)^{1-y_i}))\n",
    "\\end{aligned}\n",
    "$$"
   ]
  },
  {
   "cell_type": "markdown",
   "id": "1c5d6fca",
   "metadata": {},
   "source": [
    "### $\\phi$的求解"
   ]
  },
  {
   "cell_type": "markdown",
   "id": "c75ea08d",
   "metadata": {},
   "source": [
    "对 $\\phi$ 求偏导：\n",
    "$$\n",
    "\\sum_{i=1}^{N} \\frac{y_{i}}{\\phi}+\\frac{y_{i}-1}{1-\\phi}=0\n",
    "\\Longrightarrow \\phi=\\frac{\\sum_{i=1}^{N} y_{i}}{N}=\\frac{N_{1}}{N}\n",
    "$$\n",
    "其中，$N,N_1,N_2$ 分别为总样本的个数，正例与反例的个数"
   ]
  },
  {
   "cell_type": "markdown",
   "id": "4319cfd1",
   "metadata": {},
   "source": [
    "### $\\mu$ 的求解"
   ]
  },
  {
   "cell_type": "markdown",
   "id": "8a9a9a55",
   "metadata": {},
   "source": [
    "然后对 $\\mu_1$ 进行求解：\n",
    "$$\n",
    "\\begin{aligned} \\hat{\\mu_{1}} \n",
    "&=\\underset{\\mu_{1}}{argmax} \\sum_{i=1}^{N} y_{i} \\log N\\left(\\mu_{1}, \\Sigma\\right) \\\\\n",
    "&=\\underset{\\mu_1}{argmax} \\sum_{i=1}^{N} y_i \\log (\\frac{1}{(2\\pi)^{\\frac{p}{2}}|\\Sigma|^{\\frac{1}{2}}}exp(-\\frac{1}{2}(x_i-\\mu_1)^T(\\Sigma)^{-1}(x_i-\\mu_1)))\\\\\n",
    "&=\\underset{\\mu_{1}}{argmin} \\sum_{i=1}^{N} y_{i}\\left(x_{i}-\\mu_{1}\\right)^{T} \\Sigma^{-1}\\left(x_{i}-\\mu_{1}\\right)\n",
    "\\end{aligned}\n",
    "$$\n",
    "上述推导中用到了多元高斯分布的概率密度函数：\n",
    "$$\n",
    "p(x)=\\frac{1}{(2\\pi)^{\\frac{p}{2}}|\\Sigma|^{\\frac{1}{2}}}exp(-\\frac{1}{2}(x_i-\\mu_1)^T(\\Sigma)^{-1}(x_i-\\mu_1))\n",
    "$$\n",
    "其中，$p$ 为随机变量的个数，读者可以根据一元高斯分布的概率密度函数进行连乘，并辅以线代的知识，就可以推出多元的公式。\n",
    "\n",
    "下面对式子进行微分：\n",
    "$$\n",
    "\\frac{\\partial \\Delta}{\\partial \\mu_1}=\\sum_{i=1}^N -2y_i (\\Sigma)^{-1}(x_i-\\mu_1)=0\\\\\n",
    "\\Longrightarrow \\mu_{1}=\\frac{\\sum_{i=1}^{N} y_{i} x_{i}}{\\sum_{i=1}^{N} y_{i}}=\\frac{\\sum_{i=1}^{N} y_{i} x_{i}}{N_{1}}\n",
    "$$"
   ]
  },
  {
   "cell_type": "markdown",
   "id": "45875780",
   "metadata": {},
   "source": [
    "而由于正例与反例是对称的，因此：\n",
    "$$\n",
    "\\mu_{2}=\\frac{\\sum_{i=1}^{N}\\left(1-y_{i}\\right) x_{i}}{N_{2}}\n",
    "$$"
   ]
  },
  {
   "cell_type": "markdown",
   "id": "798ebb73",
   "metadata": {},
   "source": [
    "### $\\Sigma$ 的求解"
   ]
  },
  {
   "cell_type": "markdown",
   "id": "d6202d71",
   "metadata": {},
   "source": [
    "我们观察式子的前两项：\n",
    "$$\n",
    "\\hat{\\theta}=argmax(\\sum_{i=1}^n y_i\\ log(N(\\mu_1,\\Sigma))+(1-y_i)\\ log(N(\\mu_2,\\Sigma))+log(\\phi^{y_i} (1-\\phi)^{1-y_i}))\n",
    "$$\n",
    "发现，当$y=0$时，第一项都为$0$；当$y=1$时，第二项都为$0$。\n",
    "\n",
    "因此式子可以更为：\n",
    "$$\n",
    "\\begin{aligned}\n",
    "\\hat{\\theta}\n",
    "&=argmax(\\sum_{(x_i,y_i)\\in C_1} \\ log(N(\\mu_1,\\Sigma))+\\sum_{(x_i,y_i)\\in C_2}\\ log(N(\\mu_2,\\Sigma)))\\\\\n",
    "&=argmax(\\sum_{(x_i,y_i)\\in C_1} -\\frac{1}{2}\\log|\\Sigma|-\\frac{1}{2}(x_i-\\mu_1)^T(\\Sigma)^{-1}(x_i-\\mu_1)\\ +\n",
    "\\sum_{(x_i,y_i)\\in C_2} -\\frac{1}{2}|\\Sigma|-\\frac{1}{2}(x_i-\\mu_2)^T(\\Sigma)^{-1}(x_i-\\mu_2))\n",
    "\\end{aligned}\n",
    "$$\n",
    "我们观察 $(x_i-\\mu)^T(\\Sigma)^{-1}(x_i-\\mu)$ 的形状：$(1,p)* (p,p) * (p,1)=(1,1)$，因此可以对它加上迹(tr)的符号，将其看作一个矩阵，而在迹的内部，矩阵的顺序是可以随意交换的：\n",
    "$$\n",
    "\\begin{aligned}\n",
    "\\hat{\\theta}\n",
    "&=argmax(-\\frac{N}{2}\\log|\\Sigma|-\\frac{1}{2}tr(\\sum_{(x_i,y_i)\\in C_1}(x_i-\\mu_1)^T(\\Sigma)^{-1}(x_i-\\mu_1))\n",
    "-\\frac{1}{2}tr(\\sum_{(x_i,y_i)\\in C_2}(x_i-\\mu_2)^T(\\Sigma)^{-1}(x_i-\\mu_2)))\\\\\n",
    "&=argmax(-\\frac{N}{2}\\log|\\Sigma|-\\frac{1}{2}tr(\\sum_{(x_i,y_i)\\in C_1}(x_i-\\mu_1)^T(x_i-\\mu_1)(\\Sigma)^{-1})\n",
    "-\\frac{1}{2}tr(\\sum_{(x_i,y_i)\\in C_2}(x_i-\\mu_2)^T(x_i-\\mu_2)(\\Sigma)^{-1}))\\\\\n",
    "&=argmax(-\\frac{N}{2}\\log|\\Sigma|-\\frac{1}{2}tr(N_1 S_1(\\Sigma)^{-1})\n",
    "-\\frac{1}{2}tr(N_2 S_2(\\Sigma)^{-1}))\\\\\n",
    "\\end{aligned}\n",
    "$$\n",
    "其中，$S$为协方差矩阵。\n",
    "\n",
    "下面对式子求偏导：\n",
    "$$\n",
    "\\frac{\\partial \\Delta}{\\partial \\Sigma}=-\\frac{1}{2}(N \\frac{1}{|\\Sigma|}|\\Sigma|(\\Sigma)^{-1}-N_1S_1(\\Sigma)^{-2}-N_2S_2(\\Sigma)^{-2})=0\n",
    "$$\n",
    "因此求解出 $\\hat{\\Sigma}$：\n",
    "$$\n",
    "N \\Sigma^{-1}-N_{1} S_{1}^{T} \\Sigma^{-2}-N_{2} S_{2}^{T} \\Sigma^{-2}=0\\\\\n",
    "\\Longrightarrow \\hat{\\Sigma}=\\frac{N_{1} S_{1}+N_{2} S_{2}}{N}\n",
    "$$"
   ]
  },
  {
   "cell_type": "markdown",
   "id": "d0fac2d6",
   "metadata": {},
   "source": [
    "最后，当我们要预测的时候，只需比较 $p(x|y=0)p(y=0)$ 与 $p(x|y=1)p(y=1)$哪一个更大即可。"
   ]
  },
  {
   "cell_type": "markdown",
   "id": "f7953ed6",
   "metadata": {},
   "source": [
    "## Implement"
   ]
  },
  {
   "cell_type": "code",
   "execution_count": 3,
   "id": "83d191fc",
   "metadata": {},
   "outputs": [
    {
     "name": "stdout",
     "output_type": "stream",
     "text": [
      "(0.5, array([[4.54504095],\n",
      "       [1.46351228]]), array([[4.54504095],\n",
      "       [2.47252047]]), array([[14.96809381,  8.07251381],\n",
      "       [ 8.07251381, 14.96809381]]))\n",
      "accuary: 1\n"
     ]
    }
   ],
   "source": [
    "import numpy as np\n",
    "import os\n",
    "os.chdir(\"../\")\n",
    "from models.linear_models import GDA\n",
    "\n",
    "n1 = 1000\n",
    "n_test = 100\n",
    "x = np.linspace(0, 10, n1 + n_test)\n",
    "w1, w2 = 0.3, 0.5\n",
    "b1, b2 = 0.1, 0.2\n",
    "x1 = x[:n1]\n",
    "x_test = x[n1:]\n",
    "v1 = x1 * w1 + b1\n",
    "v2 = x1 * w2 + b2\n",
    "cla_1 = np.c_[x1, v1]\n",
    "cla_2 = np.c_[x1, v2]\n",
    "l1 = np.ones(shape=(cla_1.shape[0], 1))\n",
    "l2 = np.zeros(shape=(cla_2.shape[0], 1))\n",
    "train_data = np.r_[cla_1, cla_2]\n",
    "train_label = np.r_[l1, l2]\n",
    "\n",
    "v_test = x_test * w2 + b2\n",
    "data_test = np.c_[x_test, v_test]\n",
    "\n",
    "model = GDA()\n",
    "model.fit(train_data, train_label)\n",
    "print(model.get_params())\n",
    "print(\"accuary:\", model.evaluate(data_test, 0))"
   ]
  }
 ],
 "metadata": {
  "kernelspec": {
   "display_name": "Python 3",
   "language": "python",
   "name": "python3"
  },
  "language_info": {
   "codemirror_mode": {
    "name": "ipython",
    "version": 3
   },
   "file_extension": ".py",
   "mimetype": "text/x-python",
   "name": "python",
   "nbconvert_exporter": "python",
   "pygments_lexer": "ipython3",
   "version": "3.8.8"
  }
 },
 "nbformat": 4,
 "nbformat_minor": 5
}
