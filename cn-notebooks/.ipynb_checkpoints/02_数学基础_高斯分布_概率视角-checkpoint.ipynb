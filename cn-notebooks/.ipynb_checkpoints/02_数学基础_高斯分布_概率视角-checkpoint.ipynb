{
 "cells": [
  {
   "cell_type": "markdown",
   "id": "e851feaf",
   "metadata": {},
   "source": [
    "## Abstract\n",
    "本期我们将从概率视角观察多元高斯分布。"
   ]
  },
  {
   "cell_type": "markdown",
   "id": "1bdebe9c",
   "metadata": {},
   "source": [
    "## Prior Knowledge\n",
    "$$\n",
    "x \\sim N(\\mu, \\sigma^2)\n",
    "$$\n",
    "$$\n",
    "\\mu \\in R^p, \\sigma \\in R^p\n",
    "$$\n",
    "$$\n",
    "x_i \\sim N(\\mu_i, \\sigma_i)\n",
    "$$\n",
    "$$\n",
    "p(x_i) = \\frac{1}{\\sqrt{2\\pi}\\sigma_i} \\exp(-\\frac{(x_i - \\mu_i)^2}{2\\sigma_i^2})\n",
    "$$"
   ]
  },
  {
   "cell_type": "markdown",
   "id": "cfabd31b",
   "metadata": {},
   "source": [
    "## Derivation"
   ]
  },
  {
   "cell_type": "markdown",
   "id": "ded546bf",
   "metadata": {},
   "source": [
    "首先我们假设每个 $x_i$ 之间是 $iid (independent\\quad identically\\quad distribution)$ 独立同分布的。\n",
    "\n",
    "即:\n",
    "$$\n",
    "\\begin{aligned}\n",
    "p(x)\n",
    "&=\\prod_{i=1}^p p(x_i)\\\\\n",
    "&=\\frac{1}{(2\\pi)^{\\frac{p}{2}}\\prod_{i=1}^p \\sigma_i} \\exp(-\\frac{1}{2}\\sum_{i=1}^p (\\frac{(x_i-\\mu_i)^2}{\\sigma_i^2}))\\\\\n",
    "&=\\frac{1}{(2\\pi)^{\\frac{p}{2}}|\\Sigma|^{\\frac{1}{2}}} \\exp[-\\frac{1}{2}\n",
    "\\left (\n",
    "\\begin{matrix}\n",
    "x_1-\\mu_1 & x_2-\\mu_2 & ... & x_p - \\mu_p\n",
    "\\end{matrix}\n",
    "\\right )\n",
    "\\left (\n",
    "\\begin{matrix}\n",
    "\\frac{1}{\\sigma_1^2} & 0 & ... & 0 \\\\\n",
    "... & ... & ... & ... \\\\\n",
    "0 & ... & 0 & \\frac{1}{\\sigma_p^2}\n",
    "\\end{matrix}\n",
    "\\right )\n",
    "\\left (\n",
    "\\begin{matrix}\n",
    "x_1-\\mu_1\\\\\n",
    ".&\\\\\n",
    ".&\\\\\n",
    "x_p-\\mu_p\\\\\n",
    "\\end{matrix}\n",
    "\\right )]\\\\\n",
    "&=\\frac{1}{(2\\pi)^{\\frac{p}{2}}|\\Sigma|^{\\frac{1}{2}}} \\exp[-\\frac{1}{2}(x-\\mu)^T \\Sigma^{-1}(x-\\mu)]\n",
    "\\end{aligned}\n",
    "$$\n",
    "以上为多元高斯分布的概率密度函数。"
   ]
  },
  {
   "cell_type": "markdown",
   "id": "9840b1ec",
   "metadata": {},
   "source": [
    "而我们知道 $\\Sigma$ 为半正定矩阵，因此可以进行奇艺值分解。所以我们有:\n",
    "$$\n",
    "\\begin{aligned}\n",
    "\\Sigma\n",
    "&=UVU^T\\\\\n",
    "&=\n",
    "\\left ( \\begin{matrix}\n",
    "u_1 & ... & u_p\n",
    "\\end{matrix} \\right )\n",
    "\\left ( \\begin{matrix}\n",
    "\\lambda_1 & 0 & ... & 0\\\\\n",
    "... & 0 & ... & ...\\\\\n",
    "0 & ... & ... & \\lambda_p\n",
    "\\end{matrix} \\right )\n",
    "\\left ( \\begin{matrix}\n",
    "u_1^T \\\\\n",
    ".\\\\\n",
    ".\\\\\n",
    "u_p^T\n",
    "\\end{matrix} \\right )\\\\\n",
    "&=\n",
    "\\left ( \\begin{matrix}\n",
    "u_1\\lambda_1 & ... & u_p \\lambda_p\\\\\n",
    "\\end{matrix} \\right )\n",
    "\\left ( \\begin{matrix}\n",
    "u_1^T\\\\\n",
    ".\\\\\n",
    ".\\\\\n",
    "u_p^T\n",
    "\\end{matrix} \\right )\\\\\n",
    "&=\\sum_{i=1}^p u_i\\lambda_i u_i^T\n",
    "\\end{aligned}\n",
    "$$\n",
    "因此\n",
    "$$\n",
    "\\begin{aligned}\n",
    "\\Sigma^{-1}\n",
    "&=(UVU^T)^{-1}\\\\\n",
    "&=(U^T)^{-1}V^{-1}U^{-1}\\\\\n",
    "&=UV^{-1}U^T\\\\\n",
    "&=\\sum_{i=1}^p u_i \\frac{1}{\\lambda_i} u_i^T\n",
    "\\end{aligned}\n",
    "$$"
   ]
  },
  {
   "cell_type": "markdown",
   "id": "2b0e14fd",
   "metadata": {},
   "source": [
    "下面我们令 $\\Delta = (x-\\mu)^T \\Sigma^{-1} (x-\\mu)$\n",
    "\n",
    "将上面推导的结果代入:\n",
    "$$\n",
    "\\begin{aligned}\n",
    "\\Delta\n",
    "&=(x-\\mu)^T \\Sigma^{-1} (x-\\mu)\\\\\n",
    "&=(x-\\mu)^T \\sum_{i=1}^p u_i \\frac{1}{\\lambda_i}u_i^T (x-\\mu)\\\\\n",
    "&=\\sum_{i=1}^p(x-\\mu)^T u_i \\frac{1}{\\lambda_i}u_i^T (x-\\mu)\n",
    "\\end{aligned}\n",
    "$$\n",
    "下面我们令 $y_i=(x-\\mu)^T u_i$\n",
    "\n",
    "这里 $y_i$ 代表 $x$ 经过中心化后投影到新的正交基 $u_i$ 的坐标值。\n",
    "\n",
    "所以:\n",
    "$$\n",
    "\\Delta=\\sum_{i=1}^p \\frac{y_i^2}{\\lambda_i}\n",
    "$$"
   ]
  },
  {
   "cell_type": "markdown",
   "id": "955dd95e",
   "metadata": {},
   "source": [
    "下面我们再看多元高斯分布的概率密度函数:\n",
    "$$\n",
    "p(x)=\\frac{1}{(2\\pi)^{\\frac{p}{2}}|\\Sigma|^{\\frac{1}{2}}} \\exp[-\\frac{1}{2}(x-\\mu)^T \\Sigma^{-1}(x-\\mu)]\n",
    "$$\n",
    "可以看到式子里与变量 $x$ 相关的只有指数。前面的系数是为了使概率和为 $1$。\n",
    "\n",
    "因此高斯分布的概率与 $\\Delta$ 的值直接相关。\n",
    "\n",
    "我们假设 $p=2$ ，即:\n",
    "$$\n",
    "\\frac{y_1^2}{\\lambda_1}+\\frac{y_2^2}{\\lambda_2}=\\Delta\n",
    "$$\n",
    "我们惊喜地发现，这与椭圆方程很像。而 $\\Delta$ 的值是不固定的，因此对于不同的 $x$ ，这些样本点于平面内形成了一个个同心的椭圆。而这就是高斯分布的性质之一。"
   ]
  }
 ],
 "metadata": {
  "kernelspec": {
   "display_name": "Python 3",
   "language": "python",
   "name": "python3"
  },
  "language_info": {
   "codemirror_mode": {
    "name": "ipython",
    "version": 3
   },
   "file_extension": ".py",
   "mimetype": "text/x-python",
   "name": "python",
   "nbconvert_exporter": "python",
   "pygments_lexer": "ipython3",
   "version": "3.8.8"
  }
 },
 "nbformat": 4,
 "nbformat_minor": 5
}
