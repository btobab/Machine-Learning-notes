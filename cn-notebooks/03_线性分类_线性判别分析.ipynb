{
 "cells": [
  {
   "cell_type": "markdown",
   "id": "e7251d06",
   "metadata": {},
   "source": [
    "### Abstract\n",
    "本期我们将学习二分类-硬输出的另一种算法：线性判别分析，这实际上也是一种降维的算法。\n",
    "\n",
    "选定一个方向，将高维样本投影到这个方向上，从而对样本进行二分类。"
   ]
  },
  {
   "cell_type": "markdown",
   "id": "de18d0e4",
   "metadata": {},
   "source": [
    "### Idea\n",
    "线性判别分析的核心思想是使投影后的数据满足两个条件：\n",
    "* 相同类内部的样本距离接近\n",
    "* 不同类别之间的距离较大"
   ]
  },
  {
   "cell_type": "markdown",
   "id": "75c2dd8a",
   "metadata": {},
   "source": [
    "### Algorithm\n",
    "要降维，我们首先要知道如何计算投影。\n",
    "\n",
    "我们假定样本为$x$，沿$w$方向做投影\n",
    "\n",
    "我们知道：$w\\cdot x=||w||*||x||* \\cos{\\theta}$\n",
    "\n",
    "这里我们假设 $||w||=1$，确定唯一的 $w$，防止放缩导致无数解\n",
    "\n",
    "所以 $w\\cdot x=||x||*\\cos{\\theta}$\n",
    "\n",
    "而 $||x||*\\cos{\\theta}$ 正是投影的定义\n",
    "\n",
    "所以样本点在向量 $w$ 上的投影长度为 $w\\cdot x$\n",
    "\n",
    "故投影长度 $z=w^T\\cdot x$"
   ]
  },
  {
   "cell_type": "markdown",
   "id": "4d71342c",
   "metadata": {},
   "source": [
    "我们假定属于两个类的样本数量分别为 $N1,N2$\n",
    "\n",
    "下面对于第一个条件：**相同类内部的样本距离接近**，我们使用方差矩阵来表征每个类内部的总体分布。这里我们使用协方差矩阵的定义，用$S$表示原数据$x$的协方差矩阵"
   ]
  },
  {
   "cell_type": "markdown",
   "id": "5ac4ba5c",
   "metadata": {},
   "source": [
    "\\begin{equation}\n",
    "\\begin{aligned}C_1: Var_z[C_1]&=\\frac{1}{N_1}\\sum_{i=1}^{N_1} (z_i-\\overline{z_{c1}})(z_i-\\overline{z_{c1}})^T\\\\\n",
    "&=\\frac{1}{N_1}\\sum_{i=1}^{N_1}(w^T x_i-\\frac{1}{N_1}\\sum_{j=1}^{N_1}w^T x_j)(w^T x_i-\\frac{1}{N_1}\\sum_{j=1}^{N_1}w^T x_j)^T \\\\&=w^T \\frac{1}{N_1}\\sum_{i=1}^{N_1}(x_i-\\frac{1}{N_1}\\sum_{j=1}^{N_1} x_j)(x_i-\\frac{1}{N_1}\\sum_{j=1}^{N_1} x_j)^T w\\\\&=w^{T} \\frac{1}{N_{1}} \\sum_{i=1}^{N_{1}}\\left(x_{i}-\\overline{x_{c 1}}\\right)\\left(x_{i}-\\overline{x_{c 1}}\\right)^{T} w\\\\&=w^T S_1 w\\\\C_2: Var_z[C_2]&=\\frac{1}{N_2}\\sum_{i=1}^{N_2} (z_i-\\overline{z_{c2}})(z_i-\\overline{z_{c2}})^T\\\\&=w^T S_2 w\n",
    "\\end{aligned}\n",
    "\\end{equation}"
   ]
  },
  {
   "cell_type": "markdown",
   "id": "80d5927c",
   "metadata": {},
   "source": [
    "所以类内距离可以记为：\n",
    "$$\n",
    "Var_z[C_1]+Var_z[C_2]=w^T(S_1+S_2)w\n",
    "$$"
   ]
  },
  {
   "cell_type": "markdown",
   "id": "57aa67d3",
   "metadata": {},
   "source": [
    "对于第二个条件：**不同类别之间的距离较大**\n",
    "\n",
    "我们可以用两个类的投影均值表示类间距离：\n",
    "\\begin{equation}\n",
    "\\begin{aligned}\n",
    "(z_{c1}-z_{c2})^2&=(\\frac{1}{N_1}\\sum_{i=1}^{N_1}w^T x_i - \\frac{1}{N_2}\\sum_{i=1}^{N_2}w^T x_i)^2\\\\\n",
    "&=(w^T(\\frac{1}{N_1}\\sum_{i=1}^{N_1} x_i - \\frac{1}{N_2}\\sum_{i=1}^{N_2} x_i))^2\\\\\n",
    "&=(w^T(\\overline{x_{c1}}-\\overline{x_{c2}}))^2\\\\\n",
    "&=w^T(\\overline{x_{c1}}-\\overline{x_{c2}})(\\overline{x_{c1}}-\\overline{x_{c2}})^T w\n",
    "\\end{aligned}\n",
    "\\end{equation}"
   ]
  },
  {
   "cell_type": "markdown",
   "id": "ff7b41e7",
   "metadata": {},
   "source": [
    "好，现在再回头看看我们的两个条件：\n",
    "* 相同类内部的样本距离接近\n",
    "* 不同类别之间的距离较大\n",
    "我们很容易给出一个直观的损失函数：\n",
    "$$\n",
    "L(w)=\\frac{Var_z[C_1]+Var_z[C_2]}{(z_{c1}-z_{c2})^2}\n",
    "$$"
   ]
  },
  {
   "cell_type": "markdown",
   "id": "10e4d58c",
   "metadata": {},
   "source": [
    "通过最小化损失函数，我们得到最优的$w$:\n",
    "\\begin{equation}\n",
    "\\begin{aligned}\n",
    "\\widehat{w}=argmin(L(w))&=argmin(\\frac{Var_z[C_1]+Var_z[C_2]}{(z_{c1}-z_{c2})^2})\\\\\n",
    "&=argmin(\\frac{w^T(S_1+S_2)w}{w^T(\\overline{x_{c1}}-\\overline{x_{c2}})(\\overline{x_{c1}}-\\overline{x_{c2}})^T w})\\\\\n",
    "&=argmin(\\frac{w^T S_w w}{w^T S_b w})\n",
    "\\end{aligned}\n",
    "\\end{equation}"
   ]
  },
  {
   "cell_type": "markdown",
   "id": "ac23054e",
   "metadata": {},
   "source": [
    "其中：\n",
    "* $S_w$ 为with-class: 类内方差\n",
    "* $S_b$ 为between-class: 类间方差"
   ]
  },
  {
   "cell_type": "markdown",
   "id": "bdb7a2cf",
   "metadata": {},
   "source": [
    "下面对上式做偏导：\n",
    "$$\n",
    "\\begin{aligned}\n",
    "\\frac{\\partial{L(w)}}{\\partial{w}}&=\\frac{\\partial}{\\partial{w}}(w^T S_w w)(w^T S_b w)^{-1}\\\\\n",
    "&=2 S_{b} w\\left(w^{T} S_{w} w\\right)^{-1}-2 w^{T} S_{b} w\\left(w^{T} S_{w} w\\right)^{-2} S_{w} w=0\\\\\n",
    "\\end{aligned}\n",
    "$$"
   ]
  },
  {
   "cell_type": "markdown",
   "id": "edeb43c4",
   "metadata": {},
   "source": [
    "对方程做变换：\n",
    "$$\n",
    "\\begin{aligned}\n",
    "\\left(w^{T} S_{b} w\\right) S_{w} w&=S_{b} w\\left(w^{T} S_{w} w\\right)\\\\\n",
    "\\left(w^{T} S_{b} w\\right) w&=S_{w}^{-1}S_{b} w\\left(w^{T} S_{w} w\\right)\n",
    "\\end{aligned}\n",
    "$$\n",
    "注意到，$w^T S_b w$与$w^T S_w w$的形状为: $(1,p)* (p,p)* (p,1)=(1,1)$\n",
    "\n",
    "因此这两项都为标量，只是对向量的大小进行放缩，不改变方向，因此上式更为：\n",
    "$$\n",
    "w \\propto S_{w}^{-1} S_{b} w=S_{w}^{-1}\\left(\\overline{x_{c 1}}-\\overline{x_{c 2}}\\right)\\left(\\overline{x_{c 1}}-\\overline{x_{c 2}}\\right)^{T} w \n",
    "$$\n",
    "又因为$\\left(\\overline{x_{c 1}}-\\overline{x_{c 2}}\\right)^{T} w$也为标量，因此得到最终的式子：\n",
    "$$\n",
    "\\widehat{w}\\propto S_{w}^{-1}\\left(\\overline{x_{c 1}}-\\overline{x_{c 2}}\\right)\n",
    "$$\n",
    "因此$S_{w}^{-1}\\left(\\overline{x_{c 1}}-\\overline{x_{c 2}}\\right)$即为我们要寻找的方向，最后可以归一化得到单位的$w$"
   ]
  },
  {
   "cell_type": "markdown",
   "id": "962b0444",
   "metadata": {},
   "source": [
    "### Implement"
   ]
  },
  {
   "cell_type": "code",
   "execution_count": 1,
   "id": "58e364a3",
   "metadata": {},
   "outputs": [
    {
     "data": {
      "image/png": "[encoded data removed]",
      "text/plain": [
       "<Figure size 432x288 with 1 Axes>"
      ]
     },
     "metadata": {
      "needs_background": "light"
     },
     "output_type": "display_data"
    }
   ],
   "source": [
    "import numpy as np\n",
    "import os\n",
    "os.chdir(\"../\")\n",
    "from models.linear_models import LDA\n",
    "\n",
    "x = np.linspace(0, 100, num=100)\n",
    "w1, b1 = 0.1, 10\n",
    "w2, b2 = 0.3, 30\n",
    "epsilon = 2\n",
    "k = 0.2\n",
    "b = 20\n",
    "w = np.asarray([-k, 1])\n",
    "v1 = x * w1 + b1 + np.random.normal(scale=epsilon, size=x.shape)\n",
    "v2 = x * w2 + b2 + np.random.normal(scale=epsilon, size=x.shape)\n",
    "x1 = np.c_[x, v1]\n",
    "x2 = np.c_[x, v2]\n",
    "l1 = np.ones(x1.shape[0])\n",
    "l2 = np.zeros(x2.shape[0])\n",
    "data = np.r_[x1, x2]\n",
    "label = np.r_[l1, l2]\n",
    "\n",
    "model = LDA()\n",
    "model.fit(x1, x2)\n",
    "model.draw(data, label)"
   ]
  }
 ],
 "metadata": {
  "kernelspec": {
   "display_name": "Python 3",
   "language": "python",
   "name": "python3"
  },
  "language_info": {
   "codemirror_mode": {
    "name": "ipython",
    "version": 3
   },
   "file_extension": ".py",
   "mimetype": "text/x-python",
   "name": "python",
   "nbconvert_exporter": "python",
   "pygments_lexer": "ipython3",
   "version": "3.8.8"
  },
  "latex_envs": {
   "LaTeX_envs_menu_present": true,
   "autoclose": false,
   "autocomplete": true,
   "bibliofile": "biblio.bib",
   "cite_by": "apalike",
   "current_citInitial": 1,
   "eqLabelWithNumbers": true,
   "eqNumInitial": 1,
   "hotkeys": {
    "equation": "Ctrl-E",
    "itemize": "Ctrl-I"
   },
   "labels_anchors": false,
   "latex_user_defs": false,
   "report_style_numbering": false,
   "user_envs_cfg": false
  }
 },
 "nbformat": 4,
 "nbformat_minor": 5
}
