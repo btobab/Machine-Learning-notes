{
 "cells": [
  {
   "cell_type": "markdown",
   "id": "98332b51",
   "metadata": {},
   "source": [
    "## Abstract\n",
    "本期我们主要学习高斯分布的一些性质"
   ]
  },
  {
   "cell_type": "markdown",
   "id": "8599d700",
   "metadata": {},
   "source": [
    "## Assumption\n",
    "现在我们有一堆数据：\n",
    "$$\n",
    "X=(x_1, x_2, ..., x_N)^T\n",
    "$$\n",
    "$$\n",
    "x_i \\in R^p\n",
    "$$\n",
    "首先给出我们的模型：高斯线形模型。\n",
    "\n",
    "这里我们为了简化起见，将 $p$ 设为 $1$， 因此\n",
    "$$\n",
    "x \\backsim N(\\mu, \\sigma^2)\n",
    "$$\n",
    "$$\n",
    "\\theta=(\\mu, \\sigma)\n",
    "$$ \n",
    "\n",
    "接下来我们根据这堆数据，通过极大似然估计( $MLE$ )得出其期望与方差\n",
    "\n",
    "下面我们给出似然函数：\n",
    "$$\n",
    "\\begin{aligned}\n",
    "p(X|\\theta)&=log(\\prod_{i=1}^N \\frac{1}{\\sqrt{2\\pi}\\sigma} \\exp(-\\frac{(x_i-\\mu)^2}{2\\sigma^2})) \\\\\n",
    "&=\\sum_{i=1}^N log(\\frac{1}{\\sqrt{2\\pi}\\sigma} \\exp(-\\frac{(x_i-\\mu)^2}{2\\sigma^2}))\\\\\n",
    "&=\\sum_{i=1}^N log(\\frac{1}{\\sqrt{2\\pi}}) - log(\\sigma) - \\frac{(x_i-\\mu)^2}{2\\sigma^2}\n",
    "\\end{aligned}\n",
    "$$"
   ]
  },
  {
   "cell_type": "markdown",
   "id": "d6fc3711",
   "metadata": {},
   "source": [
    "## Expectation"
   ]
  },
  {
   "cell_type": "markdown",
   "id": "d07ed74c",
   "metadata": {},
   "source": [
    "下面我们首先使用极大似然估计得出期望 $\\mu$ 的估计值\n",
    "\n",
    "$$\n",
    "\\begin{aligned}\n",
    "\\mu_{MLE}\n",
    "&=argmax(p(X|\\theta))\\\\\n",
    "&=argmin(\\sum_{i=1}^N (x_i-\\mu)^2)\n",
    "\\end{aligned}\n",
    "$$\n",
    "\n",
    "对式子求导得到：\n",
    "$$\n",
    "\\sum_{i=1}^N 2(x_i-\\mu)=0\n",
    "$$\n",
    "$$\n",
    "\\sum_{i=1}^N x_i - N \\mu=0\n",
    "$$\n",
    "$$\n",
    "\\mu_{MLE}=\\frac{1}{N} \\sum_{i=1}^N x_i\n",
    "$$"
   ]
  },
  {
   "cell_type": "markdown",
   "id": "55bd9223",
   "metadata": {},
   "source": [
    "## Variance\n",
    "同样的，我们使用极大似然估计得出方差 $\\sigma$ 的估计值\n",
    "\n",
    "$$\n",
    "\\begin{aligned}\n",
    "\\sigma_{MLE}\n",
    "&=argmax(p(X|\\theta))\\\\\n",
    "&=argmin(\\sum_{i=1}^N log(\\sigma)+\\frac{(x_i-\\mu)^2}{2\\sigma^2})\n",
    "\\end{aligned}\n",
    "$$\n",
    "\n",
    "同样的，我们对式子求导得到：\n",
    "$$\n",
    "\\sum_{i=1}^N[\\frac{1}{\\sigma}-\\frac{(x_i-\\mu)^2}{\\sigma^3}]=0\n",
    "$$\n",
    "最后，我们得到估计值:\n",
    "$$\n",
    "\\sigma_{MLE}^2 = \\Sigma_{MLE} = \\frac{1}{N} \\sum_{i=1}^N (x_i-\\mu)^2\n",
    "$$"
   ]
  },
  {
   "cell_type": "markdown",
   "id": "4a09c8c6",
   "metadata": {},
   "source": [
    "## Biased Estimation\n",
    "要验证一个估计值是有偏估计还是无偏估计，我们只需计算该估计值的期望即可。"
   ]
  },
  {
   "cell_type": "markdown",
   "id": "03bf0d72",
   "metadata": {},
   "source": [
    "### $\\mu$\n",
    "$$\n",
    "\\begin{aligned}\n",
    "E[\\mu_{MLE}]\n",
    "&=E[\\frac{1}{N}\\sum_{i=1}^N x_i]\\\\\n",
    "&=\\frac{1}{N}\\sum_{i=1}^N E[x_i]\\\\\n",
    "&=\\mu\n",
    "\\end{aligned}\n",
    "$$\n",
    "因此 $\\mu_{MLE}$ 为无偏估计"
   ]
  },
  {
   "cell_type": "markdown",
   "id": "6b809ad8",
   "metadata": {},
   "source": [
    "### $\\sigma$"
   ]
  },
  {
   "cell_type": "markdown",
   "id": "1f225763",
   "metadata": {},
   "source": [
    "首先我们对 $\\sigma$ 的估计值进行变形\n",
    "$$\n",
    "\\begin{aligned}\n",
    "\\sigma_{MLE}^2\n",
    "&=\\frac{1}{N} \\sum_{i=1} ^N (x_i - \\mu_{MLE})^2\\\\\n",
    "&=\\frac{1}{N} \\sum_{i=1} ^N (x_i^2 - 2x_i\\mu_{MLE} + \\mu_{MLE}^2)\\\\\n",
    "&=\\frac{1}{N} \\sum_{i=1}^N x_i^2 - 2(\\frac{1}{N} \\sum_{i=1} ^N x_i) \\mu_{MLE} + \\mu_{MLE}^2\\\\\n",
    "&=\\frac{1}{N} \\sum_{i=1}^N x_i^2 - 2\\mu_{MLE}^2 + \\mu_{MLE}^2\\\\\n",
    "&=\\frac{1}{N} \\sum_{i=1}^N x_i^2 - \\mu_{MLE}^2\\\\\n",
    "&=(\\frac{1}{N} \\sum_{i=1}^N x_i^2-\\mu^2) - (\\mu_{MLE}^2-\\mu^2)\\\\\n",
    "\\end{aligned}\n",
    "$$\n",
    "令 $f_1=(\\frac{1}{N} \\sum_{i=1}^N x_i^2-\\mu^2)$ , $f_2=(\\mu_{MLE}^2-\\mu^2)$\n",
    "\n",
    "所以:\n",
    "$$\n",
    "\\begin{aligned}\n",
    "E[f_1]\n",
    "&=E[\\frac{1}{N} \\sum_{i=1}^N x_i^2 - \\mu^2]\\\\\n",
    "&=E[\\frac{1}{N} \\sum_{i=1}^N (x_i^2 - \\mu^2)]\\\\\n",
    "&=\\frac{1}{N} \\sum_{i=1}^N E[x_i^2] - E[\\mu^2]\\\\\n",
    "&=\\frac{1}{N} \\sum_{i=1}^N E[x_i^2] - \\mu^2\\\\\n",
    "&=\\frac{1}{N} \\sum_{i=1}^N E[x_i^2] - (E[x_i])^2\\\\\n",
    "&=\\sigma^2\n",
    "\\end{aligned}\n",
    "$$\n",
    "类似的:\n",
    "$$\n",
    "\\begin{aligned}\n",
    "E[f_2]\n",
    "&=E[\\mu_{MLE}^2 - \\mu^2]\\\\\n",
    "&=E[\\mu_{MLE}^2 - (E[\\mu_{MLE}])^2]\\\\\n",
    "&=Var[\\mu_{MLE}]\\\\\n",
    "&=Var[\\frac{1}{N} \\sum_{i=1} ^N x_i]\\\\\n",
    "&=\\frac{1}{N^2} \\sum_{i=1} ^N Var[x_i]\\\\\n",
    "&=\\frac{1}{N} \\sigma^2\n",
    "\\end{aligned}\n",
    "$$\n",
    "最后，将 $f_1$ 与 $f_2$ 相加，得到:\n",
    "$$\n",
    "E[\\sigma_{MLE}^2]=\\frac{N-1}{N} \\sigma^2\n",
    "$$\n",
    "因此我们通过极大似然估计得到的 $\\sigma$ 的估计值比真实值略小，所以为有偏估计\n",
    "\n",
    "而 $\\sigma^2$ 的无偏估计为 $\\frac{1}{N-1}\\sum_{i=1}^N (x_i-\\mu_{MLE})^2$"
   ]
  }
 ],
 "metadata": {
  "kernelspec": {
   "display_name": "Python 3",
   "language": "python",
   "name": "python3"
  },
  "language_info": {
   "codemirror_mode": {
    "name": "ipython",
    "version": 3
   },
   "file_extension": ".py",
   "mimetype": "text/x-python",
   "name": "python",
   "nbconvert_exporter": "python",
   "pygments_lexer": "ipython3",
   "version": "3.8.8"
  }
 },
 "nbformat": 4,
 "nbformat_minor": 5
}
